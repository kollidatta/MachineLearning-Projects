{
  "nbformat": 4,
  "nbformat_minor": 0,
  "metadata": {
    "colab": {
      "name": "BreastTissueClassification",
      "provenance": [],
      "history_visible": true
    },
    "kernelspec": {
      "name": "python3",
      "display_name": "Python 3"
    }
  },
  "cells": [
    {
      "cell_type": "code",
      "metadata": {
        "id": "8NSSmo4A9BDm",
        "colab_type": "code",
        "colab": {}
      },
      "source": [
        "import pandas as pd\n",
        "import numpy as np\n",
        "import matplotlib.pyplot as plt\n",
        "from pandas.plotting import scatter_matrix\n",
        "from sklearn.preprocessing import QuantileTransformer"
      ],
      "execution_count": 17,
      "outputs": []
    },
    {
      "cell_type": "code",
      "metadata": {
        "id": "gpKj-xF29bVl",
        "colab_type": "code",
        "colab": {}
      },
      "source": [
        "\n",
        "# for pandas version >= 0.21.0\n",
        "df = pd.read_excel('BreastTissue.xls', sheet_name='Data', index_col= 0)\n"
      ],
      "execution_count": 18,
      "outputs": []
    },
    {
      "cell_type": "code",
      "metadata": {
        "id": "rmRfN9WS-Oqz",
        "colab_type": "code",
        "colab": {
          "base_uri": "https://localhost:8080/",
          "height": 227
        },
        "outputId": "749a7bcf-a215-41a6-b736-3489cfb148a8"
      },
      "source": [
        "df.head()"
      ],
      "execution_count": 19,
      "outputs": [
        {
          "output_type": "execute_result",
          "data": {
            "text/html": [
              "<div>\n",
              "<style scoped>\n",
              "    .dataframe tbody tr th:only-of-type {\n",
              "        vertical-align: middle;\n",
              "    }\n",
              "\n",
              "    .dataframe tbody tr th {\n",
              "        vertical-align: top;\n",
              "    }\n",
              "\n",
              "    .dataframe thead th {\n",
              "        text-align: right;\n",
              "    }\n",
              "</style>\n",
              "<table border=\"1\" class=\"dataframe\">\n",
              "  <thead>\n",
              "    <tr style=\"text-align: right;\">\n",
              "      <th></th>\n",
              "      <th>Class</th>\n",
              "      <th>I0</th>\n",
              "      <th>PA500</th>\n",
              "      <th>HFS</th>\n",
              "      <th>DA</th>\n",
              "      <th>Area</th>\n",
              "      <th>A/DA</th>\n",
              "      <th>Max IP</th>\n",
              "      <th>DR</th>\n",
              "      <th>P</th>\n",
              "    </tr>\n",
              "    <tr>\n",
              "      <th>Case #</th>\n",
              "      <th></th>\n",
              "      <th></th>\n",
              "      <th></th>\n",
              "      <th></th>\n",
              "      <th></th>\n",
              "      <th></th>\n",
              "      <th></th>\n",
              "      <th></th>\n",
              "      <th></th>\n",
              "      <th></th>\n",
              "    </tr>\n",
              "  </thead>\n",
              "  <tbody>\n",
              "    <tr>\n",
              "      <th>1</th>\n",
              "      <td>car</td>\n",
              "      <td>524.794072</td>\n",
              "      <td>0.187448</td>\n",
              "      <td>0.032114</td>\n",
              "      <td>228.800228</td>\n",
              "      <td>6843.598481</td>\n",
              "      <td>29.910803</td>\n",
              "      <td>60.204880</td>\n",
              "      <td>220.737212</td>\n",
              "      <td>556.828334</td>\n",
              "    </tr>\n",
              "    <tr>\n",
              "      <th>2</th>\n",
              "      <td>car</td>\n",
              "      <td>330.000000</td>\n",
              "      <td>0.226893</td>\n",
              "      <td>0.265290</td>\n",
              "      <td>121.154201</td>\n",
              "      <td>3163.239472</td>\n",
              "      <td>26.109202</td>\n",
              "      <td>69.717361</td>\n",
              "      <td>99.084964</td>\n",
              "      <td>400.225776</td>\n",
              "    </tr>\n",
              "    <tr>\n",
              "      <th>3</th>\n",
              "      <td>car</td>\n",
              "      <td>551.879287</td>\n",
              "      <td>0.232478</td>\n",
              "      <td>0.063530</td>\n",
              "      <td>264.804935</td>\n",
              "      <td>11888.391827</td>\n",
              "      <td>44.894903</td>\n",
              "      <td>77.793297</td>\n",
              "      <td>253.785300</td>\n",
              "      <td>656.769449</td>\n",
              "    </tr>\n",
              "    <tr>\n",
              "      <th>4</th>\n",
              "      <td>car</td>\n",
              "      <td>380.000000</td>\n",
              "      <td>0.240855</td>\n",
              "      <td>0.286234</td>\n",
              "      <td>137.640111</td>\n",
              "      <td>5402.171180</td>\n",
              "      <td>39.248524</td>\n",
              "      <td>88.758446</td>\n",
              "      <td>105.198568</td>\n",
              "      <td>493.701814</td>\n",
              "    </tr>\n",
              "    <tr>\n",
              "      <th>5</th>\n",
              "      <td>car</td>\n",
              "      <td>362.831266</td>\n",
              "      <td>0.200713</td>\n",
              "      <td>0.244346</td>\n",
              "      <td>124.912559</td>\n",
              "      <td>3290.462446</td>\n",
              "      <td>26.342127</td>\n",
              "      <td>69.389389</td>\n",
              "      <td>103.866552</td>\n",
              "      <td>424.796503</td>\n",
              "    </tr>\n",
              "  </tbody>\n",
              "</table>\n",
              "</div>"
            ],
            "text/plain": [
              "       Class          I0     PA500  ...     Max IP          DR           P\n",
              "Case #                              ...                                   \n",
              "1        car  524.794072  0.187448  ...  60.204880  220.737212  556.828334\n",
              "2        car  330.000000  0.226893  ...  69.717361   99.084964  400.225776\n",
              "3        car  551.879287  0.232478  ...  77.793297  253.785300  656.769449\n",
              "4        car  380.000000  0.240855  ...  88.758446  105.198568  493.701814\n",
              "5        car  362.831266  0.200713  ...  69.389389  103.866552  424.796503\n",
              "\n",
              "[5 rows x 10 columns]"
            ]
          },
          "metadata": {
            "tags": []
          },
          "execution_count": 19
        }
      ]
    },
    {
      "cell_type": "code",
      "metadata": {
        "id": "TRwNHPD2_D-m",
        "colab_type": "code",
        "colab": {
          "base_uri": "https://localhost:8080/",
          "height": 287
        },
        "outputId": "0b3f5942-b999-4ea9-f62d-27eade32affb"
      },
      "source": [
        "df.describe()"
      ],
      "execution_count": 20,
      "outputs": [
        {
          "output_type": "execute_result",
          "data": {
            "text/html": [
              "<div>\n",
              "<style scoped>\n",
              "    .dataframe tbody tr th:only-of-type {\n",
              "        vertical-align: middle;\n",
              "    }\n",
              "\n",
              "    .dataframe tbody tr th {\n",
              "        vertical-align: top;\n",
              "    }\n",
              "\n",
              "    .dataframe thead th {\n",
              "        text-align: right;\n",
              "    }\n",
              "</style>\n",
              "<table border=\"1\" class=\"dataframe\">\n",
              "  <thead>\n",
              "    <tr style=\"text-align: right;\">\n",
              "      <th></th>\n",
              "      <th>I0</th>\n",
              "      <th>PA500</th>\n",
              "      <th>HFS</th>\n",
              "      <th>DA</th>\n",
              "      <th>Area</th>\n",
              "      <th>A/DA</th>\n",
              "      <th>Max IP</th>\n",
              "      <th>DR</th>\n",
              "      <th>P</th>\n",
              "    </tr>\n",
              "  </thead>\n",
              "  <tbody>\n",
              "    <tr>\n",
              "      <th>count</th>\n",
              "      <td>106.000000</td>\n",
              "      <td>106.000000</td>\n",
              "      <td>106.000000</td>\n",
              "      <td>106.000000</td>\n",
              "      <td>106.000000</td>\n",
              "      <td>106.000000</td>\n",
              "      <td>106.000000</td>\n",
              "      <td>106.000000</td>\n",
              "      <td>106.000000</td>\n",
              "    </tr>\n",
              "    <tr>\n",
              "      <th>mean</th>\n",
              "      <td>784.251618</td>\n",
              "      <td>0.120133</td>\n",
              "      <td>0.114691</td>\n",
              "      <td>190.568642</td>\n",
              "      <td>7335.155162</td>\n",
              "      <td>23.473784</td>\n",
              "      <td>75.381258</td>\n",
              "      <td>166.710575</td>\n",
              "      <td>810.638127</td>\n",
              "    </tr>\n",
              "    <tr>\n",
              "      <th>std</th>\n",
              "      <td>753.950075</td>\n",
              "      <td>0.068596</td>\n",
              "      <td>0.101347</td>\n",
              "      <td>190.801448</td>\n",
              "      <td>18580.314213</td>\n",
              "      <td>23.354672</td>\n",
              "      <td>81.345838</td>\n",
              "      <td>181.309580</td>\n",
              "      <td>763.019135</td>\n",
              "    </tr>\n",
              "    <tr>\n",
              "      <th>min</th>\n",
              "      <td>103.000000</td>\n",
              "      <td>0.012392</td>\n",
              "      <td>-0.066323</td>\n",
              "      <td>19.647670</td>\n",
              "      <td>70.426239</td>\n",
              "      <td>1.595742</td>\n",
              "      <td>7.968783</td>\n",
              "      <td>-9.257696</td>\n",
              "      <td>124.978561</td>\n",
              "    </tr>\n",
              "    <tr>\n",
              "      <th>25%</th>\n",
              "      <td>250.000000</td>\n",
              "      <td>0.067413</td>\n",
              "      <td>0.043982</td>\n",
              "      <td>53.845470</td>\n",
              "      <td>409.647141</td>\n",
              "      <td>8.180321</td>\n",
              "      <td>26.893773</td>\n",
              "      <td>41.781258</td>\n",
              "      <td>270.215238</td>\n",
              "    </tr>\n",
              "    <tr>\n",
              "      <th>50%</th>\n",
              "      <td>384.936489</td>\n",
              "      <td>0.105418</td>\n",
              "      <td>0.086568</td>\n",
              "      <td>120.777303</td>\n",
              "      <td>2219.581163</td>\n",
              "      <td>16.133657</td>\n",
              "      <td>44.216040</td>\n",
              "      <td>97.832557</td>\n",
              "      <td>454.108153</td>\n",
              "    </tr>\n",
              "    <tr>\n",
              "      <th>75%</th>\n",
              "      <td>1487.989626</td>\n",
              "      <td>0.169602</td>\n",
              "      <td>0.166504</td>\n",
              "      <td>255.334809</td>\n",
              "      <td>7615.204968</td>\n",
              "      <td>30.953294</td>\n",
              "      <td>83.671755</td>\n",
              "      <td>232.990070</td>\n",
              "      <td>1301.559438</td>\n",
              "    </tr>\n",
              "    <tr>\n",
              "      <th>max</th>\n",
              "      <td>2800.000000</td>\n",
              "      <td>0.358316</td>\n",
              "      <td>0.467748</td>\n",
              "      <td>1063.441427</td>\n",
              "      <td>174480.476218</td>\n",
              "      <td>164.071543</td>\n",
              "      <td>436.099640</td>\n",
              "      <td>977.552367</td>\n",
              "      <td>2896.582483</td>\n",
              "    </tr>\n",
              "  </tbody>\n",
              "</table>\n",
              "</div>"
            ],
            "text/plain": [
              "                I0       PA500         HFS  ...      Max IP          DR            P\n",
              "count   106.000000  106.000000  106.000000  ...  106.000000  106.000000   106.000000\n",
              "mean    784.251618    0.120133    0.114691  ...   75.381258  166.710575   810.638127\n",
              "std     753.950075    0.068596    0.101347  ...   81.345838  181.309580   763.019135\n",
              "min     103.000000    0.012392   -0.066323  ...    7.968783   -9.257696   124.978561\n",
              "25%     250.000000    0.067413    0.043982  ...   26.893773   41.781258   270.215238\n",
              "50%     384.936489    0.105418    0.086568  ...   44.216040   97.832557   454.108153\n",
              "75%    1487.989626    0.169602    0.166504  ...   83.671755  232.990070  1301.559438\n",
              "max    2800.000000    0.358316    0.467748  ...  436.099640  977.552367  2896.582483\n",
              "\n",
              "[8 rows x 9 columns]"
            ]
          },
          "metadata": {
            "tags": []
          },
          "execution_count": 20
        }
      ]
    },
    {
      "cell_type": "code",
      "metadata": {
        "id": "PwACdoK4_2ts",
        "colab_type": "code",
        "colab": {
          "base_uri": "https://localhost:8080/",
          "height": 342
        },
        "outputId": "dad1e406-8df9-42c3-8d92-04055984cb04"
      },
      "source": [
        "\n",
        "import seaborn as sns\n",
        "correlations = df[df.columns].corr(method='pearson')\n",
        "sns.heatmap(correlations, cmap=\"YlGnBu\", annot = True)"
      ],
      "execution_count": 21,
      "outputs": [
        {
          "output_type": "stream",
          "text": [
            "/usr/local/lib/python3.6/dist-packages/statsmodels/tools/_testing.py:19: FutureWarning: pandas.util.testing is deprecated. Use the functions in the public API at pandas.testing instead.\n",
            "  import pandas.util.testing as tm\n"
          ],
          "name": "stderr"
        },
        {
          "output_type": "execute_result",
          "data": {
            "text/plain": [
              "<matplotlib.axes._subplots.AxesSubplot at 0x7f5644a745c0>"
            ]
          },
          "metadata": {
            "tags": []
          },
          "execution_count": 21
        },
        {
          "output_type": "display_data",
          "data": {
            "image/png": "[encoded data removed]",
            "text/plain": [
              "<Figure size 432x288 with 2 Axes>"
            ]
          },
          "metadata": {
            "tags": [],
            "needs_background": "light"
          }
        }
      ]
    },
    {
      "cell_type": "code",
      "metadata": {
        "id": "FiJtML3hODnH",
        "colab_type": "code",
        "colab": {
          "base_uri": "https://localhost:8080/",
          "height": 336
        },
        "outputId": "c6cd6a54-23a2-45c3-fdd4-9057c47a7236"
      },
      "source": [
        "import heapq\n",
        "\n",
        "print('Absolute overall correlations')\n",
        "print('-' * 30)\n",
        "correlations_abs_sum = correlations[correlations.columns].abs().sum()\n",
        "print(correlations_abs_sum, '\\n')\n",
        "\n",
        "print('Weakest correlations')\n",
        "print('-' * 30)\n",
        "print(correlations_abs_sum.nsmallest(2))"
      ],
      "execution_count": 22,
      "outputs": [
        {
          "output_type": "stream",
          "text": [
            "Absolute overall correlations\n",
            "------------------------------\n",
            "I0        5.959493\n",
            "PA500     2.779037\n",
            "HFS       2.691318\n",
            "DA        5.897323\n",
            "Area      5.396149\n",
            "A/DA      5.709313\n",
            "Max IP    6.008322\n",
            "DR        5.278883\n",
            "P         5.992063\n",
            "dtype: float64 \n",
            "\n",
            "Weakest correlations\n",
            "------------------------------\n",
            "HFS      2.691318\n",
            "PA500    2.779037\n",
            "dtype: float64\n"
          ],
          "name": "stdout"
        }
      ]
    },
    {
      "cell_type": "code",
      "metadata": {
        "id": "LVWwNIFoAL6B",
        "colab_type": "code",
        "colab": {
          "base_uri": "https://localhost:8080/",
          "height": 141
        },
        "outputId": "a965aa30-1786-430f-9e90-743fef9eba09"
      },
      "source": [
        "df['Class'].value_counts()\n"
      ],
      "execution_count": 23,
      "outputs": [
        {
          "output_type": "execute_result",
          "data": {
            "text/plain": [
              "adi    22\n",
              "car    21\n",
              "mas    18\n",
              "gla    16\n",
              "fad    15\n",
              "con    14\n",
              "Name: Class, dtype: int64"
            ]
          },
          "metadata": {
            "tags": []
          },
          "execution_count": 23
        }
      ]
    },
    {
      "cell_type": "code",
      "metadata": {
        "id": "G7AuMhKKAsZi",
        "colab_type": "code",
        "colab": {}
      },
      "source": [
        "y=  df.iloc[:,0].values\n",
        "X = df.iloc[:, 1:].values\n"
      ],
      "execution_count": 24,
      "outputs": []
    },
    {
      "cell_type": "code",
      "metadata": {
        "id": "pv7zz6GYh7ia",
        "colab_type": "code",
        "colab": {
          "base_uri": "https://localhost:8080/",
          "height": 281
        },
        "outputId": "42cd66e9-a11a-43d8-b6f0-37b558f08a7c"
      },
      "source": [
        "dataset = pd.DataFrame(X)\n",
        "# histograms of the variables\n",
        "dataset.hist()\n",
        "plt.show()"
      ],
      "execution_count": 25,
      "outputs": [
        {
          "output_type": "display_data",
          "data": {
            "image/png": "[encoded data removed]",
            "text/plain": [
              "<Figure size 432x288 with 9 Axes>"
            ]
          },
          "metadata": {
            "tags": [],
            "needs_background": "light"
          }
        }
      ]
    },
    {
      "cell_type": "markdown",
      "metadata": {
        "id": "ZIhkvjUTo7xS",
        "colab_type": "text"
      },
      "source": [
        "##Data transformation to Gaussion Distribution\n"
      ]
    },
    {
      "cell_type": "code",
      "metadata": {
        "id": "HzMfXhzAic3F",
        "colab_type": "code",
        "colab": {}
      },
      "source": [
        "trans = QuantileTransformer(n_quantiles=100, output_distribution='normal')\n",
        "data = trans.fit_transform(X)\n",
        "data"
      ],
      "execution_count": null,
      "outputs": []
    },
    {
      "cell_type": "code",
      "metadata": {
        "id": "bau36SAYifrB",
        "colab_type": "code",
        "colab": {
          "base_uri": "https://localhost:8080/",
          "height": 281
        },
        "outputId": "2ecbfa61-bc89-494c-c609-e1c8b6eb147c"
      },
      "source": [
        "dataset = pd.DataFrame(data)\n",
        "# histograms of the variables\n",
        "dataset.hist()\n",
        "plt.show()"
      ],
      "execution_count": 27,
      "outputs": [
        {
          "output_type": "display_data",
          "data": {
            "image/png": "[encoded data removed]",
            "text/plain": [
              "<Figure size 432x288 with 9 Axes>"
            ]
          },
          "metadata": {
            "tags": [],
            "needs_background": "light"
          }
        }
      ]
    },
    {
      "cell_type": "code",
      "metadata": {
        "id": "nCwfkz77ErG7",
        "colab_type": "code",
        "colab": {
          "base_uri": "https://localhost:8080/",
          "height": 34
        },
        "outputId": "cee0fc90-f336-43a0-a508-a71ddabd907a"
      },
      "source": [
        "X.shape"
      ],
      "execution_count": 28,
      "outputs": [
        {
          "output_type": "execute_result",
          "data": {
            "text/plain": [
              "(106, 9)"
            ]
          },
          "metadata": {
            "tags": []
          },
          "execution_count": 28
        }
      ]
    },
    {
      "cell_type": "code",
      "metadata": {
        "id": "X3SseBzREvC8",
        "colab_type": "code",
        "colab": {
          "base_uri": "https://localhost:8080/",
          "height": 406
        },
        "outputId": "4072a4dc-5286-43f7-9225-d8e3179446e4"
      },
      "source": [
        "y.shape\n",
        "y = pd.get_dummies(y)\n",
        "y"
      ],
      "execution_count": 29,
      "outputs": [
        {
          "output_type": "execute_result",
          "data": {
            "text/html": [
              "<div>\n",
              "<style scoped>\n",
              "    .dataframe tbody tr th:only-of-type {\n",
              "        vertical-align: middle;\n",
              "    }\n",
              "\n",
              "    .dataframe tbody tr th {\n",
              "        vertical-align: top;\n",
              "    }\n",
              "\n",
              "    .dataframe thead th {\n",
              "        text-align: right;\n",
              "    }\n",
              "</style>\n",
              "<table border=\"1\" class=\"dataframe\">\n",
              "  <thead>\n",
              "    <tr style=\"text-align: right;\">\n",
              "      <th></th>\n",
              "      <th>adi</th>\n",
              "      <th>car</th>\n",
              "      <th>con</th>\n",
              "      <th>fad</th>\n",
              "      <th>gla</th>\n",
              "      <th>mas</th>\n",
              "    </tr>\n",
              "  </thead>\n",
              "  <tbody>\n",
              "    <tr>\n",
              "      <th>0</th>\n",
              "      <td>0</td>\n",
              "      <td>1</td>\n",
              "      <td>0</td>\n",
              "      <td>0</td>\n",
              "      <td>0</td>\n",
              "      <td>0</td>\n",
              "    </tr>\n",
              "    <tr>\n",
              "      <th>1</th>\n",
              "      <td>0</td>\n",
              "      <td>1</td>\n",
              "      <td>0</td>\n",
              "      <td>0</td>\n",
              "      <td>0</td>\n",
              "      <td>0</td>\n",
              "    </tr>\n",
              "    <tr>\n",
              "      <th>2</th>\n",
              "      <td>0</td>\n",
              "      <td>1</td>\n",
              "      <td>0</td>\n",
              "      <td>0</td>\n",
              "      <td>0</td>\n",
              "      <td>0</td>\n",
              "    </tr>\n",
              "    <tr>\n",
              "      <th>3</th>\n",
              "      <td>0</td>\n",
              "      <td>1</td>\n",
              "      <td>0</td>\n",
              "      <td>0</td>\n",
              "      <td>0</td>\n",
              "      <td>0</td>\n",
              "    </tr>\n",
              "    <tr>\n",
              "      <th>4</th>\n",
              "      <td>0</td>\n",
              "      <td>1</td>\n",
              "      <td>0</td>\n",
              "      <td>0</td>\n",
              "      <td>0</td>\n",
              "      <td>0</td>\n",
              "    </tr>\n",
              "    <tr>\n",
              "      <th>...</th>\n",
              "      <td>...</td>\n",
              "      <td>...</td>\n",
              "      <td>...</td>\n",
              "      <td>...</td>\n",
              "      <td>...</td>\n",
              "      <td>...</td>\n",
              "    </tr>\n",
              "    <tr>\n",
              "      <th>101</th>\n",
              "      <td>1</td>\n",
              "      <td>0</td>\n",
              "      <td>0</td>\n",
              "      <td>0</td>\n",
              "      <td>0</td>\n",
              "      <td>0</td>\n",
              "    </tr>\n",
              "    <tr>\n",
              "      <th>102</th>\n",
              "      <td>1</td>\n",
              "      <td>0</td>\n",
              "      <td>0</td>\n",
              "      <td>0</td>\n",
              "      <td>0</td>\n",
              "      <td>0</td>\n",
              "    </tr>\n",
              "    <tr>\n",
              "      <th>103</th>\n",
              "      <td>1</td>\n",
              "      <td>0</td>\n",
              "      <td>0</td>\n",
              "      <td>0</td>\n",
              "      <td>0</td>\n",
              "      <td>0</td>\n",
              "    </tr>\n",
              "    <tr>\n",
              "      <th>104</th>\n",
              "      <td>1</td>\n",
              "      <td>0</td>\n",
              "      <td>0</td>\n",
              "      <td>0</td>\n",
              "      <td>0</td>\n",
              "      <td>0</td>\n",
              "    </tr>\n",
              "    <tr>\n",
              "      <th>105</th>\n",
              "      <td>1</td>\n",
              "      <td>0</td>\n",
              "      <td>0</td>\n",
              "      <td>0</td>\n",
              "      <td>0</td>\n",
              "      <td>0</td>\n",
              "    </tr>\n",
              "  </tbody>\n",
              "</table>\n",
              "<p>106 rows × 6 columns</p>\n",
              "</div>"
            ],
            "text/plain": [
              "     adi  car  con  fad  gla  mas\n",
              "0      0    1    0    0    0    0\n",
              "1      0    1    0    0    0    0\n",
              "2      0    1    0    0    0    0\n",
              "3      0    1    0    0    0    0\n",
              "4      0    1    0    0    0    0\n",
              "..   ...  ...  ...  ...  ...  ...\n",
              "101    1    0    0    0    0    0\n",
              "102    1    0    0    0    0    0\n",
              "103    1    0    0    0    0    0\n",
              "104    1    0    0    0    0    0\n",
              "105    1    0    0    0    0    0\n",
              "\n",
              "[106 rows x 6 columns]"
            ]
          },
          "metadata": {
            "tags": []
          },
          "execution_count": 29
        }
      ]
    },
    {
      "cell_type": "code",
      "metadata": {
        "id": "YDPwbZTQGqCf",
        "colab_type": "code",
        "colab": {}
      },
      "source": [
        "from sklearn.model_selection import train_test_split\n",
        "X_train, X_test, y_train, y_test = train_test_split(dataset,y, test_size = 0.20)"
      ],
      "execution_count": 49,
      "outputs": []
    },
    {
      "cell_type": "markdown",
      "metadata": {
        "id": "sgyLZU95otY4",
        "colab_type": "text"
      },
      "source": [
        "##Neural Network with Drop out\n"
      ]
    },
    {
      "cell_type": "code",
      "metadata": {
        "id": "oh2iFB8ZG-8c",
        "colab_type": "code",
        "colab": {
          "base_uri": "https://localhost:8080/",
          "height": 1000
        },
        "outputId": "848c8f02-b016-4dd7-dbaa-90cf7b02ffbc"
      },
      "source": [
        "from keras.models import Sequential\n",
        "from keras.layers import Dense\n",
        "from keras.layers import Dropout\n",
        "import keras\n",
        "\n",
        "model = Sequential()\n",
        "model.add(Dense(units = 100, activation = 'relu' ))\n",
        "model.add(Dropout(0.2))\n",
        "\n",
        "model.add(Dense(units = 50, activation= 'relu'))\n",
        "model.add(Dropout(0.2))\n",
        "\n",
        "model.add(Dense(units = 6, activation='softmax'))\n",
        "\n",
        "opt = keras.optimizers.Adam(learning_rate=0.01)\n",
        "model.compile(optimizer= opt,  loss = 'categorical_crossentropy', metrics= ['accuracy'])\n",
        "\n",
        "history = model.fit(X_train, y_train, validation_data=(X_test, y_test), batch_size=32 , epochs=100 )\n",
        "print(history.history.keys())"
      ],
      "execution_count": 50,
      "outputs": [
        {
          "output_type": "stream",
          "text": [
            "Epoch 1/100\n",
            "WARNING:tensorflow:Layer dense_24 is casting an input tensor from dtype float64 to the layer's dtype of float32, which is new behavior in TensorFlow 2.  The layer has dtype float32 because its dtype defaults to floatx.\n",
            "\n",
            "If you intended to run this layer in float32, you can safely ignore this warning. If in doubt, this warning is likely only an issue if you are porting a TensorFlow 1.X model to TensorFlow 2.\n",
            "\n",
            "To change all layers to have dtype float64 by default, call `tf.keras.backend.set_floatx('float64')`. To change just this layer, pass dtype='float64' to the layer constructor. If you are the author of this layer, you can disable autocasting by passing autocast=False to the base Layer constructor.\n",
            "\n",
            "3/3 [==============================] - 0s 59ms/step - loss: 1.5751 - accuracy: 0.3214 - val_loss: 1.2404 - val_accuracy: 0.5455\n",
            "Epoch 2/100\n",
            "3/3 [==============================] - 0s 8ms/step - loss: 1.1054 - accuracy: 0.6429 - val_loss: 0.9334 - val_accuracy: 0.5909\n",
            "Epoch 3/100\n",
            "3/3 [==============================] - 0s 8ms/step - loss: 0.9374 - accuracy: 0.6548 - val_loss: 0.9175 - val_accuracy: 0.6364\n",
            "Epoch 4/100\n",
            "3/3 [==============================] - 0s 8ms/step - loss: 0.7643 - accuracy: 0.7024 - val_loss: 0.8808 - val_accuracy: 0.7273\n",
            "Epoch 5/100\n",
            "3/3 [==============================] - 0s 8ms/step - loss: 0.7431 - accuracy: 0.7500 - val_loss: 0.8702 - val_accuracy: 0.8182\n",
            "Epoch 6/100\n",
            "3/3 [==============================] - 0s 7ms/step - loss: 0.6921 - accuracy: 0.7500 - val_loss: 0.9732 - val_accuracy: 0.7727\n",
            "Epoch 7/100\n",
            "3/3 [==============================] - 0s 8ms/step - loss: 0.6813 - accuracy: 0.7262 - val_loss: 1.0268 - val_accuracy: 0.6364\n",
            "Epoch 8/100\n",
            "3/3 [==============================] - 0s 9ms/step - loss: 0.6852 - accuracy: 0.7024 - val_loss: 1.0062 - val_accuracy: 0.7273\n",
            "Epoch 9/100\n",
            "3/3 [==============================] - 0s 7ms/step - loss: 0.6284 - accuracy: 0.7381 - val_loss: 1.0202 - val_accuracy: 0.7727\n",
            "Epoch 10/100\n",
            "3/3 [==============================] - 0s 7ms/step - loss: 0.5400 - accuracy: 0.7738 - val_loss: 1.0686 - val_accuracy: 0.7727\n",
            "Epoch 11/100\n",
            "3/3 [==============================] - 0s 8ms/step - loss: 0.5257 - accuracy: 0.8452 - val_loss: 1.1411 - val_accuracy: 0.6818\n",
            "Epoch 12/100\n",
            "3/3 [==============================] - 0s 7ms/step - loss: 0.5104 - accuracy: 0.7738 - val_loss: 1.1638 - val_accuracy: 0.8182\n",
            "Epoch 13/100\n",
            "3/3 [==============================] - 0s 7ms/step - loss: 0.5155 - accuracy: 0.8095 - val_loss: 1.1787 - val_accuracy: 0.8182\n",
            "Epoch 14/100\n",
            "3/3 [==============================] - 0s 8ms/step - loss: 0.5086 - accuracy: 0.8214 - val_loss: 1.1686 - val_accuracy: 0.7273\n",
            "Epoch 15/100\n",
            "3/3 [==============================] - 0s 8ms/step - loss: 0.4294 - accuracy: 0.8095 - val_loss: 1.2464 - val_accuracy: 0.7273\n",
            "Epoch 16/100\n",
            "3/3 [==============================] - 0s 7ms/step - loss: 0.4929 - accuracy: 0.7857 - val_loss: 1.3527 - val_accuracy: 0.7273\n",
            "Epoch 17/100\n",
            "3/3 [==============================] - 0s 8ms/step - loss: 0.4797 - accuracy: 0.8095 - val_loss: 1.2878 - val_accuracy: 0.6818\n",
            "Epoch 18/100\n",
            "3/3 [==============================] - 0s 7ms/step - loss: 0.4500 - accuracy: 0.8214 - val_loss: 1.2802 - val_accuracy: 0.6818\n",
            "Epoch 19/100\n",
            "3/3 [==============================] - 0s 8ms/step - loss: 0.4211 - accuracy: 0.8333 - val_loss: 1.3924 - val_accuracy: 0.6818\n",
            "Epoch 20/100\n",
            "3/3 [==============================] - 0s 8ms/step - loss: 0.3746 - accuracy: 0.8571 - val_loss: 1.5868 - val_accuracy: 0.6818\n",
            "Epoch 21/100\n",
            "3/3 [==============================] - 0s 8ms/step - loss: 0.4226 - accuracy: 0.7857 - val_loss: 1.7151 - val_accuracy: 0.6818\n",
            "Epoch 22/100\n",
            "3/3 [==============================] - 0s 9ms/step - loss: 0.3577 - accuracy: 0.8452 - val_loss: 1.6640 - val_accuracy: 0.6364\n",
            "Epoch 23/100\n",
            "3/3 [==============================] - 0s 8ms/step - loss: 0.4117 - accuracy: 0.7976 - val_loss: 1.6230 - val_accuracy: 0.6364\n",
            "Epoch 24/100\n",
            "3/3 [==============================] - 0s 8ms/step - loss: 0.3642 - accuracy: 0.8690 - val_loss: 1.6533 - val_accuracy: 0.6818\n",
            "Epoch 25/100\n",
            "3/3 [==============================] - 0s 7ms/step - loss: 0.3679 - accuracy: 0.8690 - val_loss: 1.7200 - val_accuracy: 0.6818\n",
            "Epoch 26/100\n",
            "3/3 [==============================] - 0s 8ms/step - loss: 0.2847 - accuracy: 0.9048 - val_loss: 1.7063 - val_accuracy: 0.6818\n",
            "Epoch 27/100\n",
            "3/3 [==============================] - 0s 8ms/step - loss: 0.4456 - accuracy: 0.7976 - val_loss: 1.5847 - val_accuracy: 0.6818\n",
            "Epoch 28/100\n",
            "3/3 [==============================] - 0s 7ms/step - loss: 0.3412 - accuracy: 0.8690 - val_loss: 1.5750 - val_accuracy: 0.6818\n",
            "Epoch 29/100\n",
            "3/3 [==============================] - 0s 8ms/step - loss: 0.3694 - accuracy: 0.8452 - val_loss: 1.7257 - val_accuracy: 0.6818\n",
            "Epoch 30/100\n",
            "3/3 [==============================] - 0s 8ms/step - loss: 0.3686 - accuracy: 0.8214 - val_loss: 1.7159 - val_accuracy: 0.6818\n",
            "Epoch 31/100\n",
            "3/3 [==============================] - 0s 9ms/step - loss: 0.3222 - accuracy: 0.8452 - val_loss: 1.6566 - val_accuracy: 0.6818\n",
            "Epoch 32/100\n",
            "3/3 [==============================] - 0s 11ms/step - loss: 0.3540 - accuracy: 0.8452 - val_loss: 1.6494 - val_accuracy: 0.7727\n",
            "Epoch 33/100\n",
            "3/3 [==============================] - 0s 9ms/step - loss: 0.3387 - accuracy: 0.7976 - val_loss: 1.5847 - val_accuracy: 0.8182\n",
            "Epoch 34/100\n",
            "3/3 [==============================] - 0s 7ms/step - loss: 0.3954 - accuracy: 0.8571 - val_loss: 1.4081 - val_accuracy: 0.7727\n",
            "Epoch 35/100\n",
            "3/3 [==============================] - 0s 7ms/step - loss: 0.3778 - accuracy: 0.8214 - val_loss: 1.4914 - val_accuracy: 0.6364\n",
            "Epoch 36/100\n",
            "3/3 [==============================] - 0s 8ms/step - loss: 0.3185 - accuracy: 0.8929 - val_loss: 1.6379 - val_accuracy: 0.5909\n",
            "Epoch 37/100\n",
            "3/3 [==============================] - 0s 10ms/step - loss: 0.2647 - accuracy: 0.8810 - val_loss: 1.8969 - val_accuracy: 0.5909\n",
            "Epoch 38/100\n",
            "3/3 [==============================] - 0s 9ms/step - loss: 0.3645 - accuracy: 0.7976 - val_loss: 2.0390 - val_accuracy: 0.5000\n",
            "Epoch 39/100\n",
            "3/3 [==============================] - 0s 8ms/step - loss: 0.3124 - accuracy: 0.8929 - val_loss: 1.9886 - val_accuracy: 0.7273\n",
            "Epoch 40/100\n",
            "3/3 [==============================] - 0s 8ms/step - loss: 0.2679 - accuracy: 0.9048 - val_loss: 1.8434 - val_accuracy: 0.6818\n",
            "Epoch 41/100\n",
            "3/3 [==============================] - 0s 7ms/step - loss: 0.2645 - accuracy: 0.8929 - val_loss: 1.6792 - val_accuracy: 0.6364\n",
            "Epoch 42/100\n",
            "3/3 [==============================] - 0s 7ms/step - loss: 0.2661 - accuracy: 0.8690 - val_loss: 1.7732 - val_accuracy: 0.6818\n",
            "Epoch 43/100\n",
            "3/3 [==============================] - 0s 8ms/step - loss: 0.2769 - accuracy: 0.9167 - val_loss: 2.0418 - val_accuracy: 0.7273\n",
            "Epoch 44/100\n",
            "3/3 [==============================] - 0s 8ms/step - loss: 0.2671 - accuracy: 0.9048 - val_loss: 1.9523 - val_accuracy: 0.7273\n",
            "Epoch 45/100\n",
            "3/3 [==============================] - 0s 7ms/step - loss: 0.3004 - accuracy: 0.8452 - val_loss: 1.7296 - val_accuracy: 0.7273\n",
            "Epoch 46/100\n",
            "3/3 [==============================] - 0s 8ms/step - loss: 0.2745 - accuracy: 0.9167 - val_loss: 1.5646 - val_accuracy: 0.5909\n",
            "Epoch 47/100\n",
            "3/3 [==============================] - 0s 7ms/step - loss: 0.2338 - accuracy: 0.9048 - val_loss: 1.6196 - val_accuracy: 0.5909\n",
            "Epoch 48/100\n",
            "3/3 [==============================] - 0s 8ms/step - loss: 0.2781 - accuracy: 0.8810 - val_loss: 1.7228 - val_accuracy: 0.5909\n",
            "Epoch 49/100\n",
            "3/3 [==============================] - 0s 8ms/step - loss: 0.2552 - accuracy: 0.8810 - val_loss: 1.9004 - val_accuracy: 0.6818\n",
            "Epoch 50/100\n",
            "3/3 [==============================] - 0s 9ms/step - loss: 0.3003 - accuracy: 0.9167 - val_loss: 2.0795 - val_accuracy: 0.7273\n",
            "Epoch 51/100\n",
            "3/3 [==============================] - 0s 7ms/step - loss: 0.2796 - accuracy: 0.8571 - val_loss: 2.0637 - val_accuracy: 0.6818\n",
            "Epoch 52/100\n",
            "3/3 [==============================] - 0s 7ms/step - loss: 0.2714 - accuracy: 0.8929 - val_loss: 1.9472 - val_accuracy: 0.6364\n",
            "Epoch 53/100\n",
            "3/3 [==============================] - 0s 8ms/step - loss: 0.2500 - accuracy: 0.8690 - val_loss: 1.8042 - val_accuracy: 0.7727\n",
            "Epoch 54/100\n",
            "3/3 [==============================] - 0s 7ms/step - loss: 0.2367 - accuracy: 0.8929 - val_loss: 1.8426 - val_accuracy: 0.8182\n",
            "Epoch 55/100\n",
            "3/3 [==============================] - 0s 8ms/step - loss: 0.2180 - accuracy: 0.9286 - val_loss: 1.8805 - val_accuracy: 0.7727\n",
            "Epoch 56/100\n",
            "3/3 [==============================] - 0s 9ms/step - loss: 0.2115 - accuracy: 0.8810 - val_loss: 1.9068 - val_accuracy: 0.7727\n",
            "Epoch 57/100\n",
            "3/3 [==============================] - 0s 7ms/step - loss: 0.2297 - accuracy: 0.9048 - val_loss: 1.9069 - val_accuracy: 0.7727\n",
            "Epoch 58/100\n",
            "3/3 [==============================] - 0s 7ms/step - loss: 0.2135 - accuracy: 0.9286 - val_loss: 2.0092 - val_accuracy: 0.7273\n",
            "Epoch 59/100\n",
            "3/3 [==============================] - 0s 8ms/step - loss: 0.2999 - accuracy: 0.8214 - val_loss: 2.1351 - val_accuracy: 0.7273\n",
            "Epoch 60/100\n",
            "3/3 [==============================] - 0s 7ms/step - loss: 0.2030 - accuracy: 0.9167 - val_loss: 2.2801 - val_accuracy: 0.7273\n",
            "Epoch 61/100\n",
            "3/3 [==============================] - 0s 7ms/step - loss: 0.2511 - accuracy: 0.8690 - val_loss: 2.4514 - val_accuracy: 0.6818\n",
            "Epoch 62/100\n",
            "3/3 [==============================] - 0s 8ms/step - loss: 0.2006 - accuracy: 0.9286 - val_loss: 2.3751 - val_accuracy: 0.6818\n",
            "Epoch 63/100\n",
            "3/3 [==============================] - 0s 9ms/step - loss: 0.2089 - accuracy: 0.9048 - val_loss: 2.3782 - val_accuracy: 0.7273\n",
            "Epoch 64/100\n",
            "3/3 [==============================] - 0s 8ms/step - loss: 0.2372 - accuracy: 0.9167 - val_loss: 2.5226 - val_accuracy: 0.7727\n",
            "Epoch 65/100\n",
            "3/3 [==============================] - 0s 8ms/step - loss: 0.1480 - accuracy: 0.9643 - val_loss: 2.7035 - val_accuracy: 0.7727\n",
            "Epoch 66/100\n",
            "3/3 [==============================] - 0s 8ms/step - loss: 0.2325 - accuracy: 0.8929 - val_loss: 2.7004 - val_accuracy: 0.6818\n",
            "Epoch 67/100\n",
            "3/3 [==============================] - 0s 8ms/step - loss: 0.1791 - accuracy: 0.9286 - val_loss: 2.5835 - val_accuracy: 0.6818\n",
            "Epoch 68/100\n",
            "3/3 [==============================] - 0s 8ms/step - loss: 0.2019 - accuracy: 0.9167 - val_loss: 2.2862 - val_accuracy: 0.7273\n",
            "Epoch 69/100\n",
            "3/3 [==============================] - 0s 8ms/step - loss: 0.2673 - accuracy: 0.8571 - val_loss: 2.2846 - val_accuracy: 0.7273\n",
            "Epoch 70/100\n",
            "3/3 [==============================] - 0s 8ms/step - loss: 0.2150 - accuracy: 0.9405 - val_loss: 2.4980 - val_accuracy: 0.6818\n",
            "Epoch 71/100\n",
            "3/3 [==============================] - 0s 8ms/step - loss: 0.1719 - accuracy: 0.9524 - val_loss: 2.6016 - val_accuracy: 0.6818\n",
            "Epoch 72/100\n",
            "3/3 [==============================] - 0s 7ms/step - loss: 0.1871 - accuracy: 0.9286 - val_loss: 2.5614 - val_accuracy: 0.7273\n",
            "Epoch 73/100\n",
            "3/3 [==============================] - 0s 10ms/step - loss: 0.2125 - accuracy: 0.9048 - val_loss: 2.6473 - val_accuracy: 0.7273\n",
            "Epoch 74/100\n",
            "3/3 [==============================] - 0s 7ms/step - loss: 0.1764 - accuracy: 0.9405 - val_loss: 2.8526 - val_accuracy: 0.5909\n",
            "Epoch 75/100\n",
            "3/3 [==============================] - 0s 8ms/step - loss: 0.2468 - accuracy: 0.8810 - val_loss: 2.7785 - val_accuracy: 0.6364\n",
            "Epoch 76/100\n",
            "3/3 [==============================] - 0s 9ms/step - loss: 0.1864 - accuracy: 0.9167 - val_loss: 2.8264 - val_accuracy: 0.6818\n",
            "Epoch 77/100\n",
            "3/3 [==============================] - 0s 9ms/step - loss: 0.2104 - accuracy: 0.9286 - val_loss: 2.9309 - val_accuracy: 0.7727\n",
            "Epoch 78/100\n",
            "3/3 [==============================] - 0s 9ms/step - loss: 0.2479 - accuracy: 0.9167 - val_loss: 2.7427 - val_accuracy: 0.6818\n",
            "Epoch 79/100\n",
            "3/3 [==============================] - 0s 9ms/step - loss: 0.1656 - accuracy: 0.9405 - val_loss: 2.6471 - val_accuracy: 0.5909\n",
            "Epoch 80/100\n",
            "3/3 [==============================] - 0s 8ms/step - loss: 0.1839 - accuracy: 0.9405 - val_loss: 2.7031 - val_accuracy: 0.6364\n",
            "Epoch 81/100\n",
            "3/3 [==============================] - 0s 8ms/step - loss: 0.1910 - accuracy: 0.9405 - val_loss: 2.8237 - val_accuracy: 0.6818\n",
            "Epoch 82/100\n",
            "3/3 [==============================] - 0s 8ms/step - loss: 0.2490 - accuracy: 0.8929 - val_loss: 2.7504 - val_accuracy: 0.6818\n",
            "Epoch 83/100\n",
            "3/3 [==============================] - 0s 7ms/step - loss: 0.1743 - accuracy: 0.9405 - val_loss: 2.6594 - val_accuracy: 0.6364\n",
            "Epoch 84/100\n",
            "3/3 [==============================] - 0s 7ms/step - loss: 0.2252 - accuracy: 0.9048 - val_loss: 2.4637 - val_accuracy: 0.5909\n",
            "Epoch 85/100\n",
            "3/3 [==============================] - 0s 8ms/step - loss: 0.1997 - accuracy: 0.9167 - val_loss: 2.3681 - val_accuracy: 0.5909\n",
            "Epoch 86/100\n",
            "3/3 [==============================] - 0s 7ms/step - loss: 0.2460 - accuracy: 0.9167 - val_loss: 2.3713 - val_accuracy: 0.7727\n",
            "Epoch 87/100\n",
            "3/3 [==============================] - 0s 7ms/step - loss: 0.1300 - accuracy: 0.9762 - val_loss: 2.3023 - val_accuracy: 0.7727\n",
            "Epoch 88/100\n",
            "3/3 [==============================] - 0s 9ms/step - loss: 0.1891 - accuracy: 0.9167 - val_loss: 2.2237 - val_accuracy: 0.7727\n",
            "Epoch 89/100\n",
            "3/3 [==============================] - 0s 7ms/step - loss: 0.2394 - accuracy: 0.8810 - val_loss: 2.4293 - val_accuracy: 0.6818\n",
            "Epoch 90/100\n",
            "3/3 [==============================] - 0s 8ms/step - loss: 0.1427 - accuracy: 0.9643 - val_loss: 2.8941 - val_accuracy: 0.5909\n",
            "Epoch 91/100\n",
            "3/3 [==============================] - 0s 8ms/step - loss: 0.2777 - accuracy: 0.8810 - val_loss: 2.9510 - val_accuracy: 0.5909\n",
            "Epoch 92/100\n",
            "3/3 [==============================] - 0s 9ms/step - loss: 0.1800 - accuracy: 0.9167 - val_loss: 2.8078 - val_accuracy: 0.5909\n",
            "Epoch 93/100\n",
            "3/3 [==============================] - 0s 8ms/step - loss: 0.2513 - accuracy: 0.8929 - val_loss: 2.7278 - val_accuracy: 0.5909\n",
            "Epoch 94/100\n",
            "3/3 [==============================] - 0s 7ms/step - loss: 0.2239 - accuracy: 0.9167 - val_loss: 2.8434 - val_accuracy: 0.6364\n",
            "Epoch 95/100\n",
            "3/3 [==============================] - 0s 8ms/step - loss: 0.2653 - accuracy: 0.8810 - val_loss: 3.0947 - val_accuracy: 0.7727\n",
            "Epoch 96/100\n",
            "3/3 [==============================] - 0s 8ms/step - loss: 0.2397 - accuracy: 0.9286 - val_loss: 3.3904 - val_accuracy: 0.7727\n",
            "Epoch 97/100\n",
            "3/3 [==============================] - 0s 8ms/step - loss: 0.2089 - accuracy: 0.9048 - val_loss: 3.3670 - val_accuracy: 0.7727\n",
            "Epoch 98/100\n",
            "3/3 [==============================] - 0s 9ms/step - loss: 0.2257 - accuracy: 0.8929 - val_loss: 3.2859 - val_accuracy: 0.7273\n",
            "Epoch 99/100\n",
            "3/3 [==============================] - 0s 8ms/step - loss: 0.1600 - accuracy: 0.9286 - val_loss: 3.0995 - val_accuracy: 0.8182\n",
            "Epoch 100/100\n",
            "3/3 [==============================] - 0s 10ms/step - loss: 0.1664 - accuracy: 0.9524 - val_loss: 3.0862 - val_accuracy: 0.7273\n",
            "dict_keys(['loss', 'accuracy', 'val_loss', 'val_accuracy'])\n"
          ],
          "name": "stdout"
        }
      ]
    },
    {
      "cell_type": "code",
      "metadata": {
        "id": "k_UqzOOZzsXN",
        "colab_type": "code",
        "colab": {
          "base_uri": "https://localhost:8080/",
          "height": 573
        },
        "outputId": "d7a7bb73-50d6-4907-e280-50ee3ab2221f"
      },
      "source": [
        "\n",
        "# list all data in history\n",
        "\n",
        "# summarize history for accuracy\n",
        "plt.plot(history.history['accuracy'])\n",
        "plt.plot(history.history['val_accuracy'])\n",
        "plt.title('model accuracy')\n",
        "plt.ylabel('accuracy')\n",
        "plt.xlabel('epoch')\n",
        "plt.legend(['train', 'test'], loc='upper left')\n",
        "plt.show()\n",
        "# summarize history for loss\n",
        "plt.plot(history.history['loss'])\n",
        "plt.plot(history.history['val_loss'])\n",
        "plt.title('model loss')\n",
        "plt.ylabel('loss')\n",
        "plt.xlabel('epoch')\n",
        "plt.legend(['train', 'test'], loc='upper left')\n",
        "plt.show()"
      ],
      "execution_count": 51,
      "outputs": [
        {
          "output_type": "display_data",
          "data": {
            "image/png": "[encoded data removed]",
            "text/plain": [
              "<Figure size 432x288 with 1 Axes>"
            ]
          },
          "metadata": {
            "tags": [],
            "needs_background": "light"
          }
        },
        {
          "output_type": "display_data",
          "data": {
            "image/png": "[encoded data removed]",
            "text/plain": [
              "<Figure size 432x288 with 1 Axes>"
            ]
          },
          "metadata": {
            "tags": [],
            "needs_background": "light"
          }
        }
      ]
    },
    {
      "cell_type": "markdown",
      "metadata": {
        "id": "IvNHaFniojfo",
        "colab_type": "text"
      },
      "source": [
        "##Neural Network with L1 Regularizers\n"
      ]
    },
    {
      "cell_type": "code",
      "metadata": {
        "id": "LJEYg_c02rZC",
        "colab_type": "code",
        "colab": {
          "base_uri": "https://localhost:8080/",
          "height": 1000
        },
        "outputId": "1b97d99c-43e4-4090-a35e-a4ea6ec7a6ed"
      },
      "source": [
        "from keras.models import Sequential\n",
        "from keras.layers import Dense\n",
        "from keras.layers import Dropout\n",
        "import keras\n",
        "from tensorflow.keras import regularizers\n",
        "\n",
        "model = Sequential()\n",
        "model.add(Dense(units = 100, kernel_regularizer=regularizers.l1(0.001), activation = 'relu' ))\n",
        "\n",
        "\n",
        "model.add(Dense(units = 50, kernel_regularizer=regularizers.l1(0.001), activation= 'relu'))\n",
        "\n",
        "\n",
        "model.add(Dense(units = 6, activation='softmax'))\n",
        "\n",
        "opt = keras.optimizers.Adam(learning_rate=0.01)\n",
        "model.compile(optimizer= opt,  loss = 'categorical_crossentropy', metrics= ['accuracy'])\n",
        "\n",
        "history = model.fit(X_train, y_train, validation_data=(X_test, y_test), batch_size=32 , epochs=100 )\n",
        "print(history.history.keys())"
      ],
      "execution_count": 52,
      "outputs": [
        {
          "output_type": "stream",
          "text": [
            "Epoch 1/100\n",
            "WARNING:tensorflow:Layer dense_27 is casting an input tensor from dtype float64 to the layer's dtype of float32, which is new behavior in TensorFlow 2.  The layer has dtype float32 because its dtype defaults to floatx.\n",
            "\n",
            "If you intended to run this layer in float32, you can safely ignore this warning. If in doubt, this warning is likely only an issue if you are porting a TensorFlow 1.X model to TensorFlow 2.\n",
            "\n",
            "To change all layers to have dtype float64 by default, call `tf.keras.backend.set_floatx('float64')`. To change just this layer, pass dtype='float64' to the layer constructor. If you are the author of this layer, you can disable autocasting by passing autocast=False to the base Layer constructor.\n",
            "\n",
            "3/3 [==============================] - 0s 70ms/step - loss: 2.1789 - accuracy: 0.3571 - val_loss: 1.7176 - val_accuracy: 0.6364\n",
            "Epoch 2/100\n",
            "3/3 [==============================] - 0s 9ms/step - loss: 1.5971 - accuracy: 0.6905 - val_loss: 1.4169 - val_accuracy: 0.6818\n",
            "Epoch 3/100\n",
            "3/3 [==============================] - 0s 8ms/step - loss: 1.3202 - accuracy: 0.7381 - val_loss: 1.4390 - val_accuracy: 0.7273\n",
            "Epoch 4/100\n",
            "3/3 [==============================] - 0s 9ms/step - loss: 1.2308 - accuracy: 0.7381 - val_loss: 1.4132 - val_accuracy: 0.7273\n",
            "Epoch 5/100\n",
            "3/3 [==============================] - 0s 11ms/step - loss: 1.1559 - accuracy: 0.7381 - val_loss: 1.3930 - val_accuracy: 0.7727\n",
            "Epoch 6/100\n",
            "3/3 [==============================] - 0s 8ms/step - loss: 1.1208 - accuracy: 0.7381 - val_loss: 1.5022 - val_accuracy: 0.7727\n",
            "Epoch 7/100\n",
            "3/3 [==============================] - 0s 8ms/step - loss: 1.0547 - accuracy: 0.7500 - val_loss: 1.4196 - val_accuracy: 0.7727\n",
            "Epoch 8/100\n",
            "3/3 [==============================] - 0s 9ms/step - loss: 0.9894 - accuracy: 0.8214 - val_loss: 1.3263 - val_accuracy: 0.7273\n",
            "Epoch 9/100\n",
            "3/3 [==============================] - 0s 9ms/step - loss: 1.0077 - accuracy: 0.7976 - val_loss: 1.3945 - val_accuracy: 0.7273\n",
            "Epoch 10/100\n",
            "3/3 [==============================] - 0s 9ms/step - loss: 0.9417 - accuracy: 0.7976 - val_loss: 1.4180 - val_accuracy: 0.6364\n",
            "Epoch 11/100\n",
            "3/3 [==============================] - 0s 10ms/step - loss: 0.9311 - accuracy: 0.7857 - val_loss: 1.5285 - val_accuracy: 0.6364\n",
            "Epoch 12/100\n",
            "3/3 [==============================] - 0s 9ms/step - loss: 0.8734 - accuracy: 0.8095 - val_loss: 1.7490 - val_accuracy: 0.6818\n",
            "Epoch 13/100\n",
            "3/3 [==============================] - 0s 9ms/step - loss: 0.8740 - accuracy: 0.8214 - val_loss: 1.7330 - val_accuracy: 0.6818\n",
            "Epoch 14/100\n",
            "3/3 [==============================] - 0s 10ms/step - loss: 0.8155 - accuracy: 0.8333 - val_loss: 1.5339 - val_accuracy: 0.7273\n",
            "Epoch 15/100\n",
            "3/3 [==============================] - 0s 9ms/step - loss: 0.8195 - accuracy: 0.8214 - val_loss: 1.4469 - val_accuracy: 0.7273\n",
            "Epoch 16/100\n",
            "3/3 [==============================] - 0s 9ms/step - loss: 0.7936 - accuracy: 0.8333 - val_loss: 1.5759 - val_accuracy: 0.6818\n",
            "Epoch 17/100\n",
            "3/3 [==============================] - 0s 10ms/step - loss: 0.7743 - accuracy: 0.8214 - val_loss: 1.6307 - val_accuracy: 0.5909\n",
            "Epoch 18/100\n",
            "3/3 [==============================] - 0s 10ms/step - loss: 0.7485 - accuracy: 0.8333 - val_loss: 1.6416 - val_accuracy: 0.6818\n",
            "Epoch 19/100\n",
            "3/3 [==============================] - 0s 8ms/step - loss: 0.7444 - accuracy: 0.8333 - val_loss: 1.5831 - val_accuracy: 0.6818\n",
            "Epoch 20/100\n",
            "3/3 [==============================] - 0s 9ms/step - loss: 0.7127 - accuracy: 0.8690 - val_loss: 1.5502 - val_accuracy: 0.6364\n",
            "Epoch 21/100\n",
            "3/3 [==============================] - 0s 9ms/step - loss: 0.6958 - accuracy: 0.8452 - val_loss: 1.6236 - val_accuracy: 0.6818\n",
            "Epoch 22/100\n",
            "3/3 [==============================] - 0s 8ms/step - loss: 0.6823 - accuracy: 0.8690 - val_loss: 1.7025 - val_accuracy: 0.6364\n",
            "Epoch 23/100\n",
            "3/3 [==============================] - 0s 8ms/step - loss: 0.6694 - accuracy: 0.8810 - val_loss: 1.7497 - val_accuracy: 0.6818\n",
            "Epoch 24/100\n",
            "3/3 [==============================] - 0s 9ms/step - loss: 0.6640 - accuracy: 0.8333 - val_loss: 1.7043 - val_accuracy: 0.6818\n",
            "Epoch 25/100\n",
            "3/3 [==============================] - 0s 8ms/step - loss: 0.6471 - accuracy: 0.8690 - val_loss: 1.6690 - val_accuracy: 0.6818\n",
            "Epoch 26/100\n",
            "3/3 [==============================] - 0s 10ms/step - loss: 0.6406 - accuracy: 0.8929 - val_loss: 1.7267 - val_accuracy: 0.6818\n",
            "Epoch 27/100\n",
            "3/3 [==============================] - 0s 9ms/step - loss: 0.6284 - accuracy: 0.8571 - val_loss: 1.8475 - val_accuracy: 0.6818\n",
            "Epoch 28/100\n",
            "3/3 [==============================] - 0s 7ms/step - loss: 0.6161 - accuracy: 0.9048 - val_loss: 1.7776 - val_accuracy: 0.6818\n",
            "Epoch 29/100\n",
            "3/3 [==============================] - 0s 9ms/step - loss: 0.6104 - accuracy: 0.8929 - val_loss: 1.7448 - val_accuracy: 0.7273\n",
            "Epoch 30/100\n",
            "3/3 [==============================] - 0s 9ms/step - loss: 0.6014 - accuracy: 0.8810 - val_loss: 1.7451 - val_accuracy: 0.6818\n",
            "Epoch 31/100\n",
            "3/3 [==============================] - 0s 9ms/step - loss: 0.5912 - accuracy: 0.9048 - val_loss: 1.8235 - val_accuracy: 0.6818\n",
            "Epoch 32/100\n",
            "3/3 [==============================] - 0s 8ms/step - loss: 0.5971 - accuracy: 0.8810 - val_loss: 1.8755 - val_accuracy: 0.6818\n",
            "Epoch 33/100\n",
            "3/3 [==============================] - 0s 11ms/step - loss: 0.5906 - accuracy: 0.9048 - val_loss: 1.7981 - val_accuracy: 0.6818\n",
            "Epoch 34/100\n",
            "3/3 [==============================] - 0s 9ms/step - loss: 0.5672 - accuracy: 0.8929 - val_loss: 1.7887 - val_accuracy: 0.6818\n",
            "Epoch 35/100\n",
            "3/3 [==============================] - 0s 8ms/step - loss: 0.5600 - accuracy: 0.9048 - val_loss: 1.8289 - val_accuracy: 0.6818\n",
            "Epoch 36/100\n",
            "3/3 [==============================] - 0s 9ms/step - loss: 0.5731 - accuracy: 0.8810 - val_loss: 1.9165 - val_accuracy: 0.6818\n",
            "Epoch 37/100\n",
            "3/3 [==============================] - 0s 8ms/step - loss: 0.5619 - accuracy: 0.9167 - val_loss: 1.7900 - val_accuracy: 0.6818\n",
            "Epoch 38/100\n",
            "3/3 [==============================] - 0s 9ms/step - loss: 0.5570 - accuracy: 0.8929 - val_loss: 1.7875 - val_accuracy: 0.6818\n",
            "Epoch 39/100\n",
            "3/3 [==============================] - 0s 9ms/step - loss: 0.5538 - accuracy: 0.8690 - val_loss: 1.9792 - val_accuracy: 0.6818\n",
            "Epoch 40/100\n",
            "3/3 [==============================] - 0s 10ms/step - loss: 0.5780 - accuracy: 0.8929 - val_loss: 1.9687 - val_accuracy: 0.5455\n",
            "Epoch 41/100\n",
            "3/3 [==============================] - 0s 8ms/step - loss: 0.5468 - accuracy: 0.9167 - val_loss: 1.8017 - val_accuracy: 0.6818\n",
            "Epoch 42/100\n",
            "3/3 [==============================] - 0s 9ms/step - loss: 0.5360 - accuracy: 0.9167 - val_loss: 1.7940 - val_accuracy: 0.6818\n",
            "Epoch 43/100\n",
            "3/3 [==============================] - 0s 9ms/step - loss: 0.5296 - accuracy: 0.9048 - val_loss: 1.8720 - val_accuracy: 0.6818\n",
            "Epoch 44/100\n",
            "3/3 [==============================] - 0s 8ms/step - loss: 0.5161 - accuracy: 0.9167 - val_loss: 1.9287 - val_accuracy: 0.6818\n",
            "Epoch 45/100\n",
            "3/3 [==============================] - 0s 8ms/step - loss: 0.5148 - accuracy: 0.9167 - val_loss: 1.8593 - val_accuracy: 0.6364\n",
            "Epoch 46/100\n",
            "3/3 [==============================] - 0s 9ms/step - loss: 0.5068 - accuracy: 0.9167 - val_loss: 1.8403 - val_accuracy: 0.7727\n",
            "Epoch 47/100\n",
            "3/3 [==============================] - 0s 9ms/step - loss: 0.5062 - accuracy: 0.9048 - val_loss: 1.9077 - val_accuracy: 0.7727\n",
            "Epoch 48/100\n",
            "3/3 [==============================] - 0s 8ms/step - loss: 0.4906 - accuracy: 0.9167 - val_loss: 1.9402 - val_accuracy: 0.6818\n",
            "Epoch 49/100\n",
            "3/3 [==============================] - 0s 8ms/step - loss: 0.4887 - accuracy: 0.9048 - val_loss: 1.9535 - val_accuracy: 0.6364\n",
            "Epoch 50/100\n",
            "3/3 [==============================] - 0s 8ms/step - loss: 0.4789 - accuracy: 0.9167 - val_loss: 1.8542 - val_accuracy: 0.7273\n",
            "Epoch 51/100\n",
            "3/3 [==============================] - 0s 8ms/step - loss: 0.4775 - accuracy: 0.9286 - val_loss: 1.8507 - val_accuracy: 0.7727\n",
            "Epoch 52/100\n",
            "3/3 [==============================] - 0s 8ms/step - loss: 0.4793 - accuracy: 0.9405 - val_loss: 1.9408 - val_accuracy: 0.6818\n",
            "Epoch 53/100\n",
            "3/3 [==============================] - 0s 9ms/step - loss: 0.4740 - accuracy: 0.9167 - val_loss: 2.0518 - val_accuracy: 0.6818\n",
            "Epoch 54/100\n",
            "3/3 [==============================] - 0s 9ms/step - loss: 0.4673 - accuracy: 0.9524 - val_loss: 1.8729 - val_accuracy: 0.7273\n",
            "Epoch 55/100\n",
            "3/3 [==============================] - 0s 8ms/step - loss: 0.4621 - accuracy: 0.9524 - val_loss: 1.8053 - val_accuracy: 0.7727\n",
            "Epoch 56/100\n",
            "3/3 [==============================] - 0s 8ms/step - loss: 0.4481 - accuracy: 0.9524 - val_loss: 1.9519 - val_accuracy: 0.7727\n",
            "Epoch 57/100\n",
            "3/3 [==============================] - 0s 8ms/step - loss: 0.4491 - accuracy: 0.9405 - val_loss: 1.9674 - val_accuracy: 0.7273\n",
            "Epoch 58/100\n",
            "3/3 [==============================] - 0s 9ms/step - loss: 0.4338 - accuracy: 0.9643 - val_loss: 1.9225 - val_accuracy: 0.6818\n",
            "Epoch 59/100\n",
            "3/3 [==============================] - 0s 9ms/step - loss: 0.4309 - accuracy: 0.9405 - val_loss: 2.0194 - val_accuracy: 0.6364\n",
            "Epoch 60/100\n",
            "3/3 [==============================] - 0s 9ms/step - loss: 0.4315 - accuracy: 0.9405 - val_loss: 2.0348 - val_accuracy: 0.6364\n",
            "Epoch 61/100\n",
            "3/3 [==============================] - 0s 9ms/step - loss: 0.4243 - accuracy: 0.9524 - val_loss: 2.0102 - val_accuracy: 0.7273\n",
            "Epoch 62/100\n",
            "3/3 [==============================] - 0s 8ms/step - loss: 0.4192 - accuracy: 0.9524 - val_loss: 2.0119 - val_accuracy: 0.7273\n",
            "Epoch 63/100\n",
            "3/3 [==============================] - 0s 9ms/step - loss: 0.4191 - accuracy: 0.9405 - val_loss: 1.9982 - val_accuracy: 0.6818\n",
            "Epoch 64/100\n",
            "3/3 [==============================] - 0s 9ms/step - loss: 0.4079 - accuracy: 0.9643 - val_loss: 2.0293 - val_accuracy: 0.7273\n",
            "Epoch 65/100\n",
            "3/3 [==============================] - 0s 8ms/step - loss: 0.4234 - accuracy: 0.9524 - val_loss: 2.0063 - val_accuracy: 0.7273\n",
            "Epoch 66/100\n",
            "3/3 [==============================] - 0s 8ms/step - loss: 0.4108 - accuracy: 0.9524 - val_loss: 2.1446 - val_accuracy: 0.6364\n",
            "Epoch 67/100\n",
            "3/3 [==============================] - 0s 9ms/step - loss: 0.4102 - accuracy: 0.9286 - val_loss: 2.1201 - val_accuracy: 0.5455\n",
            "Epoch 68/100\n",
            "3/3 [==============================] - 0s 9ms/step - loss: 0.4025 - accuracy: 0.9405 - val_loss: 2.0154 - val_accuracy: 0.7273\n",
            "Epoch 69/100\n",
            "3/3 [==============================] - 0s 8ms/step - loss: 0.4065 - accuracy: 0.9524 - val_loss: 1.9398 - val_accuracy: 0.7727\n",
            "Epoch 70/100\n",
            "3/3 [==============================] - 0s 8ms/step - loss: 0.3947 - accuracy: 0.9643 - val_loss: 2.0555 - val_accuracy: 0.7273\n",
            "Epoch 71/100\n",
            "3/3 [==============================] - 0s 8ms/step - loss: 0.3843 - accuracy: 0.9524 - val_loss: 2.0491 - val_accuracy: 0.7273\n",
            "Epoch 72/100\n",
            "3/3 [==============================] - 0s 8ms/step - loss: 0.3850 - accuracy: 0.9524 - val_loss: 1.9738 - val_accuracy: 0.7273\n",
            "Epoch 73/100\n",
            "3/3 [==============================] - 0s 9ms/step - loss: 0.3822 - accuracy: 0.9643 - val_loss: 2.0523 - val_accuracy: 0.7273\n",
            "Epoch 74/100\n",
            "3/3 [==============================] - 0s 8ms/step - loss: 0.3818 - accuracy: 0.9762 - val_loss: 2.0909 - val_accuracy: 0.6818\n",
            "Epoch 75/100\n",
            "3/3 [==============================] - 0s 9ms/step - loss: 0.3723 - accuracy: 0.9643 - val_loss: 2.0320 - val_accuracy: 0.7273\n",
            "Epoch 76/100\n",
            "3/3 [==============================] - 0s 9ms/step - loss: 0.3727 - accuracy: 0.9762 - val_loss: 2.0787 - val_accuracy: 0.7273\n",
            "Epoch 77/100\n",
            "3/3 [==============================] - 0s 9ms/step - loss: 0.3620 - accuracy: 0.9643 - val_loss: 1.9887 - val_accuracy: 0.7273\n",
            "Epoch 78/100\n",
            "3/3 [==============================] - 0s 10ms/step - loss: 0.3697 - accuracy: 0.9643 - val_loss: 2.0408 - val_accuracy: 0.7273\n",
            "Epoch 79/100\n",
            "3/3 [==============================] - 0s 9ms/step - loss: 0.3699 - accuracy: 0.9643 - val_loss: 2.1977 - val_accuracy: 0.7273\n",
            "Epoch 80/100\n",
            "3/3 [==============================] - 0s 9ms/step - loss: 0.3579 - accuracy: 0.9643 - val_loss: 1.9819 - val_accuracy: 0.7273\n",
            "Epoch 81/100\n",
            "3/3 [==============================] - 0s 9ms/step - loss: 0.3602 - accuracy: 0.9762 - val_loss: 1.9752 - val_accuracy: 0.7273\n",
            "Epoch 82/100\n",
            "3/3 [==============================] - 0s 9ms/step - loss: 0.3503 - accuracy: 0.9643 - val_loss: 2.1655 - val_accuracy: 0.6364\n",
            "Epoch 83/100\n",
            "3/3 [==============================] - 0s 9ms/step - loss: 0.3546 - accuracy: 0.9762 - val_loss: 2.0708 - val_accuracy: 0.7273\n",
            "Epoch 84/100\n",
            "3/3 [==============================] - 0s 9ms/step - loss: 0.3450 - accuracy: 0.9643 - val_loss: 1.9565 - val_accuracy: 0.7727\n",
            "Epoch 85/100\n",
            "3/3 [==============================] - 0s 9ms/step - loss: 0.3523 - accuracy: 0.9762 - val_loss: 2.0890 - val_accuracy: 0.7727\n",
            "Epoch 86/100\n",
            "3/3 [==============================] - 0s 10ms/step - loss: 0.3340 - accuracy: 0.9881 - val_loss: 2.1727 - val_accuracy: 0.6818\n",
            "Epoch 87/100\n",
            "3/3 [==============================] - 0s 8ms/step - loss: 0.3327 - accuracy: 0.9762 - val_loss: 2.1480 - val_accuracy: 0.6818\n",
            "Epoch 88/100\n",
            "3/3 [==============================] - 0s 9ms/step - loss: 0.3380 - accuracy: 0.9643 - val_loss: 2.2409 - val_accuracy: 0.7273\n",
            "Epoch 89/100\n",
            "3/3 [==============================] - 0s 11ms/step - loss: 0.3299 - accuracy: 0.9762 - val_loss: 2.2435 - val_accuracy: 0.7273\n",
            "Epoch 90/100\n",
            "3/3 [==============================] - 0s 11ms/step - loss: 0.3354 - accuracy: 0.9881 - val_loss: 2.1205 - val_accuracy: 0.7273\n",
            "Epoch 91/100\n",
            "3/3 [==============================] - 0s 9ms/step - loss: 0.3372 - accuracy: 0.9643 - val_loss: 2.0472 - val_accuracy: 0.7273\n",
            "Epoch 92/100\n",
            "3/3 [==============================] - 0s 9ms/step - loss: 0.3525 - accuracy: 0.9643 - val_loss: 2.0914 - val_accuracy: 0.7273\n",
            "Epoch 93/100\n",
            "3/3 [==============================] - 0s 8ms/step - loss: 0.3363 - accuracy: 0.9762 - val_loss: 2.2374 - val_accuracy: 0.6818\n",
            "Epoch 94/100\n",
            "3/3 [==============================] - 0s 9ms/step - loss: 0.3350 - accuracy: 0.9881 - val_loss: 2.1624 - val_accuracy: 0.7273\n",
            "Epoch 95/100\n",
            "3/3 [==============================] - 0s 9ms/step - loss: 0.3337 - accuracy: 0.9524 - val_loss: 2.1048 - val_accuracy: 0.7727\n",
            "Epoch 96/100\n",
            "3/3 [==============================] - 0s 10ms/step - loss: 0.3255 - accuracy: 0.9643 - val_loss: 2.1451 - val_accuracy: 0.7273\n",
            "Epoch 97/100\n",
            "3/3 [==============================] - 0s 10ms/step - loss: 0.3173 - accuracy: 0.9643 - val_loss: 2.1451 - val_accuracy: 0.7273\n",
            "Epoch 98/100\n",
            "3/3 [==============================] - 0s 8ms/step - loss: 0.3149 - accuracy: 0.9643 - val_loss: 2.1266 - val_accuracy: 0.7273\n",
            "Epoch 99/100\n",
            "3/3 [==============================] - 0s 8ms/step - loss: 0.3074 - accuracy: 0.9881 - val_loss: 2.1551 - val_accuracy: 0.7273\n",
            "Epoch 100/100\n",
            "3/3 [==============================] - 0s 10ms/step - loss: 0.3025 - accuracy: 0.9881 - val_loss: 2.2320 - val_accuracy: 0.7273\n",
            "dict_keys(['loss', 'accuracy', 'val_loss', 'val_accuracy'])\n"
          ],
          "name": "stdout"
        }
      ]
    },
    {
      "cell_type": "code",
      "metadata": {
        "id": "OgDTNFL3KY7z",
        "colab_type": "code",
        "colab": {}
      },
      "source": [
        "y_pred = model.predict(X_test)"
      ],
      "execution_count": 53,
      "outputs": []
    },
    {
      "cell_type": "code",
      "metadata": {
        "id": "SRbVrML1Knny",
        "colab_type": "code",
        "colab": {
          "base_uri": "https://localhost:8080/",
          "height": 52
        },
        "outputId": "466f7451-7022-4791-ca18-3a5f53baf85f"
      },
      "source": [
        "score = model.evaluate(X_test, y_test)\n",
        "score[1]*100"
      ],
      "execution_count": 54,
      "outputs": [
        {
          "output_type": "stream",
          "text": [
            "1/1 [==============================] - 0s 2ms/step - loss: 2.2320 - accuracy: 0.7273\n"
          ],
          "name": "stdout"
        },
        {
          "output_type": "execute_result",
          "data": {
            "text/plain": [
              "72.72727489471436"
            ]
          },
          "metadata": {
            "tags": []
          },
          "execution_count": 54
        }
      ]
    }
  ]
}