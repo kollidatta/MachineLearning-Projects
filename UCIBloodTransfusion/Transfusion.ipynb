{
  "nbformat": 4,
  "nbformat_minor": 0,
  "metadata": {
    "colab": {
      "name": "Transfusion.ipynb",
      "provenance": [],
      "collapsed_sections": []
    },
    "kernelspec": {
      "name": "python3",
      "display_name": "Python 3"
    }
  },
  "cells": [
    {
      "cell_type": "code",
      "metadata": {
        "id": "KjH-ueMrCQjO",
        "colab_type": "code",
        "colab": {}
      },
      "source": [
        "import pandas as pd\n",
        "import numpy as np\n",
        "import matplotlib.pyplot as plt\n",
        "from pandas.plotting import scatter_matrix\n",
        "from sklearn.preprocessing import QuantileTransformer\n",
        "from sklearn.metrics import recall_score, precision_score, f1_score, confusion_matrix, accuracy_score"
      ],
      "execution_count": 1,
      "outputs": []
    },
    {
      "cell_type": "code",
      "metadata": {
        "id": "1AfYL66hDEAb",
        "colab_type": "code",
        "colab": {}
      },
      "source": [
        "df_trans = pd.read_csv('transfusion.data')\n"
      ],
      "execution_count": 2,
      "outputs": []
    },
    {
      "cell_type": "code",
      "metadata": {
        "id": "7hxaTlZRD7ty",
        "colab_type": "code",
        "colab": {
          "base_uri": "https://localhost:8080/",
          "height": 230
        },
        "outputId": "0d100cec-3e7b-4266-ec92-e0f8093d67c9"
      },
      "source": [
        "df_trans.info()"
      ],
      "execution_count": 3,
      "outputs": [
        {
          "output_type": "stream",
          "text": [
            "<class 'pandas.core.frame.DataFrame'>\n",
            "RangeIndex: 748 entries, 0 to 747\n",
            "Data columns (total 5 columns):\n",
            " #   Column                                      Non-Null Count  Dtype\n",
            "---  ------                                      --------------  -----\n",
            " 0   Recency (months)                            748 non-null    int64\n",
            " 1   Frequency (times)                           748 non-null    int64\n",
            " 2   Monetary (c.c. blood)                       748 non-null    int64\n",
            " 3   Time (months)                               748 non-null    int64\n",
            " 4   whether he/she donated blood in March 2007  748 non-null    int64\n",
            "dtypes: int64(5)\n",
            "memory usage: 29.3 KB\n"
          ],
          "name": "stdout"
        }
      ]
    },
    {
      "cell_type": "code",
      "metadata": {
        "id": "DQxlngj0EAeJ",
        "colab_type": "code",
        "colab": {
          "base_uri": "https://localhost:8080/",
          "height": 287
        },
        "outputId": "985695b9-c868-4e57-c636-7891e8b633c0"
      },
      "source": [
        "df_trans.describe()"
      ],
      "execution_count": 4,
      "outputs": [
        {
          "output_type": "execute_result",
          "data": {
            "text/html": [
              "<div>\n",
              "<style scoped>\n",
              "    .dataframe tbody tr th:only-of-type {\n",
              "        vertical-align: middle;\n",
              "    }\n",
              "\n",
              "    .dataframe tbody tr th {\n",
              "        vertical-align: top;\n",
              "    }\n",
              "\n",
              "    .dataframe thead th {\n",
              "        text-align: right;\n",
              "    }\n",
              "</style>\n",
              "<table border=\"1\" class=\"dataframe\">\n",
              "  <thead>\n",
              "    <tr style=\"text-align: right;\">\n",
              "      <th></th>\n",
              "      <th>Recency (months)</th>\n",
              "      <th>Frequency (times)</th>\n",
              "      <th>Monetary (c.c. blood)</th>\n",
              "      <th>Time (months)</th>\n",
              "      <th>whether he/she donated blood in March 2007</th>\n",
              "    </tr>\n",
              "  </thead>\n",
              "  <tbody>\n",
              "    <tr>\n",
              "      <th>count</th>\n",
              "      <td>748.000000</td>\n",
              "      <td>748.000000</td>\n",
              "      <td>748.000000</td>\n",
              "      <td>748.000000</td>\n",
              "      <td>748.000000</td>\n",
              "    </tr>\n",
              "    <tr>\n",
              "      <th>mean</th>\n",
              "      <td>9.506684</td>\n",
              "      <td>5.514706</td>\n",
              "      <td>1378.676471</td>\n",
              "      <td>34.282086</td>\n",
              "      <td>0.237968</td>\n",
              "    </tr>\n",
              "    <tr>\n",
              "      <th>std</th>\n",
              "      <td>8.095396</td>\n",
              "      <td>5.839307</td>\n",
              "      <td>1459.826781</td>\n",
              "      <td>24.376714</td>\n",
              "      <td>0.426124</td>\n",
              "    </tr>\n",
              "    <tr>\n",
              "      <th>min</th>\n",
              "      <td>0.000000</td>\n",
              "      <td>1.000000</td>\n",
              "      <td>250.000000</td>\n",
              "      <td>2.000000</td>\n",
              "      <td>0.000000</td>\n",
              "    </tr>\n",
              "    <tr>\n",
              "      <th>25%</th>\n",
              "      <td>2.750000</td>\n",
              "      <td>2.000000</td>\n",
              "      <td>500.000000</td>\n",
              "      <td>16.000000</td>\n",
              "      <td>0.000000</td>\n",
              "    </tr>\n",
              "    <tr>\n",
              "      <th>50%</th>\n",
              "      <td>7.000000</td>\n",
              "      <td>4.000000</td>\n",
              "      <td>1000.000000</td>\n",
              "      <td>28.000000</td>\n",
              "      <td>0.000000</td>\n",
              "    </tr>\n",
              "    <tr>\n",
              "      <th>75%</th>\n",
              "      <td>14.000000</td>\n",
              "      <td>7.000000</td>\n",
              "      <td>1750.000000</td>\n",
              "      <td>50.000000</td>\n",
              "      <td>0.000000</td>\n",
              "    </tr>\n",
              "    <tr>\n",
              "      <th>max</th>\n",
              "      <td>74.000000</td>\n",
              "      <td>50.000000</td>\n",
              "      <td>12500.000000</td>\n",
              "      <td>98.000000</td>\n",
              "      <td>1.000000</td>\n",
              "    </tr>\n",
              "  </tbody>\n",
              "</table>\n",
              "</div>"
            ],
            "text/plain": [
              "       Recency (months)  ...  whether he/she donated blood in March 2007\n",
              "count        748.000000  ...                                  748.000000\n",
              "mean           9.506684  ...                                    0.237968\n",
              "std            8.095396  ...                                    0.426124\n",
              "min            0.000000  ...                                    0.000000\n",
              "25%            2.750000  ...                                    0.000000\n",
              "50%            7.000000  ...                                    0.000000\n",
              "75%           14.000000  ...                                    0.000000\n",
              "max           74.000000  ...                                    1.000000\n",
              "\n",
              "[8 rows x 5 columns]"
            ]
          },
          "metadata": {
            "tags": []
          },
          "execution_count": 4
        }
      ]
    },
    {
      "cell_type": "code",
      "metadata": {
        "id": "i8o9G49gFN-k",
        "colab_type": "code",
        "colab": {
          "base_uri": "https://localhost:8080/",
          "height": 540
        },
        "outputId": "57219905-1fb2-41e7-8227-504496948e92"
      },
      "source": [
        "import seaborn as sns\n",
        "correlations = df_trans[df_trans.columns].corr(method='pearson')\n",
        "sns.heatmap(correlations, cmap=\"YlGnBu\", annot = True)"
      ],
      "execution_count": 5,
      "outputs": [
        {
          "output_type": "stream",
          "text": [
            "/usr/local/lib/python3.6/dist-packages/statsmodels/tools/_testing.py:19: FutureWarning: pandas.util.testing is deprecated. Use the functions in the public API at pandas.testing instead.\n",
            "  import pandas.util.testing as tm\n"
          ],
          "name": "stderr"
        },
        {
          "output_type": "execute_result",
          "data": {
            "text/plain": [
              "<matplotlib.axes._subplots.AxesSubplot at 0x7f5f6468dd30>"
            ]
          },
          "metadata": {
            "tags": []
          },
          "execution_count": 5
        },
        {
          "output_type": "display_data",
          "data": {
            "image/png": "[encoded data removed]",
            "text/plain": [
              "<Figure size 432x288 with 2 Axes>"
            ]
          },
          "metadata": {
            "tags": [],
            "needs_background": "light"
          }
        }
      ]
    },
    {
      "cell_type": "code",
      "metadata": {
        "id": "0mqHHeDuEXhN",
        "colab_type": "code",
        "colab": {}
      },
      "source": [
        "X = df_trans.iloc[:,:-1].values\n",
        "y = df_trans.iloc[:,-1].values"
      ],
      "execution_count": 6,
      "outputs": []
    },
    {
      "cell_type": "code",
      "metadata": {
        "id": "xJiZ5uwkFH8m",
        "colab_type": "code",
        "colab": {}
      },
      "source": [
        "from sklearn.model_selection import train_test_split\n",
        "X_train,X_test, y_train, y_test = train_test_split(X,y, test_size = 0.20, random_state =10)"
      ],
      "execution_count": 28,
      "outputs": []
    },
    {
      "cell_type": "code",
      "metadata": {
        "id": "lDlyksWXE00q",
        "colab_type": "code",
        "colab": {}
      },
      "source": [
        "from sklearn.preprocessing import StandardScaler\n",
        "sc = StandardScaler()\n",
        "X_train = sc.fit_transform(X_train)\n",
        "X_test = sc.transform(X_test)"
      ],
      "execution_count": 29,
      "outputs": []
    },
    {
      "cell_type": "code",
      "metadata": {
        "id": "4M_YD5xZF8Nf",
        "colab_type": "code",
        "colab": {}
      },
      "source": [
        "from sklearn.linear_model import LogisticRegression\n",
        "from sklearn.naive_bayes import GaussianNB\n",
        "from sklearn.tree import DecisionTreeClassifier\n",
        "from sklearn.svm import SVC\n",
        "from sklearn.neighbors import KNeighborsClassifier\n",
        "from sklearn.ensemble import RandomForestClassifier"
      ],
      "execution_count": 30,
      "outputs": []
    },
    {
      "cell_type": "code",
      "metadata": {
        "id": "Qu0NObvCLSu_",
        "colab_type": "code",
        "colab": {}
      },
      "source": [
        "def model_selection(X_train, y_train):\n",
        "  classifier_Logistic = LogisticRegression(random_state = 0).fit(X_train, y_train).predict(X_test)\n",
        "  classifier_NB = GaussianNB().fit(X_train, y_train).predict(X_test)\n",
        "  classifier_tree = DecisionTreeClassifier(criterion='gini',random_state = 0).fit(X_train,y_train).predict(X_test)\n",
        "  classifier_SVC = SVC(kernel='rbf', random_state = 0).fit(X_train,y_train).predict(X_test)\n",
        "  classifier_KNN = KNeighborsClassifier(n_neighbors = 5, metric = 'minkowski', p = 2).fit(X_train,y_train).predict(X_test)\n",
        "  classifier_RF = RandomForestClassifier(n_estimators = 150, criterion = 'gini', random_state = 0).fit(X_train,y_train).predict(X_test)\n",
        "  classifiers = [classifier_Logistic, classifier_NB,classifier_tree,classifier_SVC,classifier_KNN, classifier_RF ]\n",
        "  return classifiers\n"
      ],
      "execution_count": 40,
      "outputs": []
    },
    {
      "cell_type": "code",
      "metadata": {
        "id": "QVr9Yfc7R13f",
        "colab_type": "code",
        "colab": {}
      },
      "source": [
        "classifier = model_selection(X_train, y_train)"
      ],
      "execution_count": 41,
      "outputs": []
    },
    {
      "cell_type": "code",
      "metadata": {
        "id": "pjzciYvyP_4-",
        "colab_type": "code",
        "colab": {}
      },
      "source": [
        "def metrics(classifier):\n",
        "  cm = confusion_matrix(y_test, classifier)\n",
        "  rs = recall_score(y_test, classifier)\n",
        "  ps = precision_score(y_test, classifier)\n",
        "  acc= accuracy_score(y_test, classifier)\n",
        "  \n",
        "\n",
        "  print(cm, rs,ps, acc*100)\n",
        "  "
      ],
      "execution_count": 42,
      "outputs": []
    },
    {
      "cell_type": "code",
      "metadata": {
        "id": "ifuglMXkRFaB",
        "colab_type": "code",
        "colab": {
          "base_uri": "https://localhost:8080/",
          "height": 230
        },
        "outputId": "d2bcd2cd-8341-4e0e-e84a-f4bed7190879"
      },
      "source": [
        "for cl in classifier:\n",
        "  metrics(cl)\n"
      ],
      "execution_count": 43,
      "outputs": [
        {
          "output_type": "stream",
          "text": [
            "[[114   1]\n",
            " [ 29   6]] 0.17142857142857143 0.8571428571428571 80.0\n",
            "[[111   4]\n",
            " [ 26   9]] 0.2571428571428571 0.6923076923076923 80.0\n",
            "[[102  13]\n",
            " [ 26   9]] 0.2571428571428571 0.4090909090909091 74.0\n",
            "[[114   1]\n",
            " [ 30   5]] 0.14285714285714285 0.8333333333333334 79.33333333333333\n",
            "[[110   5]\n",
            " [ 25  10]] 0.2857142857142857 0.6666666666666666 80.0\n",
            "[[107   8]\n",
            " [ 26   9]] 0.2571428571428571 0.5294117647058824 77.33333333333333\n"
          ],
          "name": "stdout"
        }
      ]
    },
    {
      "cell_type": "code",
      "metadata": {
        "id": "yVmPZiquVgbb",
        "colab_type": "code",
        "colab": {
          "base_uri": "https://localhost:8080/",
          "height": 1000
        },
        "outputId": "4002c46b-067d-47df-ae8a-31e97f3f28c9"
      },
      "source": [
        "from keras.layers import Dense\n",
        "from keras.models import Sequential\n",
        "from keras.layers import Dropout\n",
        "import keras\n",
        "model = Sequential()\n",
        "model.add(Dense(units = 32, activation = 'relu' ))\n",
        "model.add(Dropout(0.2))\n",
        "\n",
        "model.add(Dense(units = 64, activation= 'relu'))\n",
        "model.add(Dropout(0.2))\n",
        "\n",
        "model.add(Dense(units = 32, activation= 'relu'))\n",
        "model.add(Dropout(0.2))\n",
        "\n",
        "model.add(Dense(units = 1 ,activation='sigmoid'))\n",
        "\n",
        "opt = keras.optimizers.Adagrad(learning_rate=0.01)\n",
        "model.compile(optimizer= opt,  loss = 'binary_crossentropy', metrics= ['accuracy'])\n",
        "\n",
        "history = model.fit(X_train, y_train, validation_data=(X_test, y_test), batch_size=32 , epochs=100 )\n",
        "print(history.history.keys())"
      ],
      "execution_count": 44,
      "outputs": [
        {
          "output_type": "stream",
          "text": [
            "Epoch 1/100\n",
            "19/19 [==============================] - 0s 8ms/step - loss: 0.7030 - accuracy: 0.5000 - val_loss: 0.6440 - val_accuracy: 0.7733\n",
            "Epoch 2/100\n",
            "19/19 [==============================] - 0s 2ms/step - loss: 0.6435 - accuracy: 0.7241 - val_loss: 0.5979 - val_accuracy: 0.7667\n",
            "Epoch 3/100\n",
            "19/19 [==============================] - 0s 2ms/step - loss: 0.5913 - accuracy: 0.7592 - val_loss: 0.5651 - val_accuracy: 0.7667\n",
            "Epoch 4/100\n",
            "19/19 [==============================] - 0s 2ms/step - loss: 0.5772 - accuracy: 0.7575 - val_loss: 0.5408 - val_accuracy: 0.7667\n",
            "Epoch 5/100\n",
            "19/19 [==============================] - 0s 2ms/step - loss: 0.5525 - accuracy: 0.7559 - val_loss: 0.5198 - val_accuracy: 0.7667\n",
            "Epoch 6/100\n",
            "19/19 [==============================] - 0s 2ms/step - loss: 0.5430 - accuracy: 0.7642 - val_loss: 0.5054 - val_accuracy: 0.7667\n",
            "Epoch 7/100\n",
            "19/19 [==============================] - 0s 2ms/step - loss: 0.5290 - accuracy: 0.7575 - val_loss: 0.4940 - val_accuracy: 0.7667\n",
            "Epoch 8/100\n",
            "19/19 [==============================] - 0s 2ms/step - loss: 0.5359 - accuracy: 0.7592 - val_loss: 0.4833 - val_accuracy: 0.7667\n",
            "Epoch 9/100\n",
            "19/19 [==============================] - 0s 2ms/step - loss: 0.5266 - accuracy: 0.7625 - val_loss: 0.4757 - val_accuracy: 0.7667\n",
            "Epoch 10/100\n",
            "19/19 [==============================] - 0s 2ms/step - loss: 0.5188 - accuracy: 0.7642 - val_loss: 0.4710 - val_accuracy: 0.7667\n",
            "Epoch 11/100\n",
            "19/19 [==============================] - 0s 2ms/step - loss: 0.5133 - accuracy: 0.7609 - val_loss: 0.4641 - val_accuracy: 0.7733\n",
            "Epoch 12/100\n",
            "19/19 [==============================] - 0s 2ms/step - loss: 0.5078 - accuracy: 0.7692 - val_loss: 0.4608 - val_accuracy: 0.7733\n",
            "Epoch 13/100\n",
            "19/19 [==============================] - 0s 2ms/step - loss: 0.5065 - accuracy: 0.7575 - val_loss: 0.4560 - val_accuracy: 0.7800\n",
            "Epoch 14/100\n",
            "19/19 [==============================] - 0s 2ms/step - loss: 0.5069 - accuracy: 0.7709 - val_loss: 0.4537 - val_accuracy: 0.7800\n",
            "Epoch 15/100\n",
            "19/19 [==============================] - 0s 2ms/step - loss: 0.5173 - accuracy: 0.7575 - val_loss: 0.4502 - val_accuracy: 0.7800\n",
            "Epoch 16/100\n",
            "19/19 [==============================] - 0s 2ms/step - loss: 0.5133 - accuracy: 0.7575 - val_loss: 0.4484 - val_accuracy: 0.7800\n",
            "Epoch 17/100\n",
            "19/19 [==============================] - 0s 2ms/step - loss: 0.5171 - accuracy: 0.7508 - val_loss: 0.4463 - val_accuracy: 0.7867\n",
            "Epoch 18/100\n",
            "19/19 [==============================] - 0s 2ms/step - loss: 0.5005 - accuracy: 0.7642 - val_loss: 0.4435 - val_accuracy: 0.7933\n",
            "Epoch 19/100\n",
            "19/19 [==============================] - 0s 2ms/step - loss: 0.5145 - accuracy: 0.7625 - val_loss: 0.4426 - val_accuracy: 0.7933\n",
            "Epoch 20/100\n",
            "19/19 [==============================] - 0s 2ms/step - loss: 0.5053 - accuracy: 0.7659 - val_loss: 0.4407 - val_accuracy: 0.7933\n",
            "Epoch 21/100\n",
            "19/19 [==============================] - 0s 2ms/step - loss: 0.5107 - accuracy: 0.7625 - val_loss: 0.4392 - val_accuracy: 0.7933\n",
            "Epoch 22/100\n",
            "19/19 [==============================] - 0s 2ms/step - loss: 0.4952 - accuracy: 0.7659 - val_loss: 0.4378 - val_accuracy: 0.7933\n",
            "Epoch 23/100\n",
            "19/19 [==============================] - 0s 2ms/step - loss: 0.5016 - accuracy: 0.7625 - val_loss: 0.4351 - val_accuracy: 0.7933\n",
            "Epoch 24/100\n",
            "19/19 [==============================] - 0s 2ms/step - loss: 0.4982 - accuracy: 0.7642 - val_loss: 0.4336 - val_accuracy: 0.8000\n",
            "Epoch 25/100\n",
            "19/19 [==============================] - 0s 2ms/step - loss: 0.4903 - accuracy: 0.7692 - val_loss: 0.4315 - val_accuracy: 0.8000\n",
            "Epoch 26/100\n",
            "19/19 [==============================] - 0s 2ms/step - loss: 0.4892 - accuracy: 0.7676 - val_loss: 0.4301 - val_accuracy: 0.8000\n",
            "Epoch 27/100\n",
            "19/19 [==============================] - 0s 2ms/step - loss: 0.5005 - accuracy: 0.7659 - val_loss: 0.4292 - val_accuracy: 0.8067\n",
            "Epoch 28/100\n",
            "19/19 [==============================] - 0s 2ms/step - loss: 0.5100 - accuracy: 0.7676 - val_loss: 0.4283 - val_accuracy: 0.8000\n",
            "Epoch 29/100\n",
            "19/19 [==============================] - 0s 2ms/step - loss: 0.5069 - accuracy: 0.7642 - val_loss: 0.4277 - val_accuracy: 0.8000\n",
            "Epoch 30/100\n",
            "19/19 [==============================] - 0s 2ms/step - loss: 0.4947 - accuracy: 0.7676 - val_loss: 0.4257 - val_accuracy: 0.8000\n",
            "Epoch 31/100\n",
            "19/19 [==============================] - 0s 2ms/step - loss: 0.5014 - accuracy: 0.7676 - val_loss: 0.4247 - val_accuracy: 0.8000\n",
            "Epoch 32/100\n",
            "19/19 [==============================] - 0s 2ms/step - loss: 0.4992 - accuracy: 0.7676 - val_loss: 0.4236 - val_accuracy: 0.8000\n",
            "Epoch 33/100\n",
            "19/19 [==============================] - 0s 2ms/step - loss: 0.4986 - accuracy: 0.7625 - val_loss: 0.4219 - val_accuracy: 0.8000\n",
            "Epoch 34/100\n",
            "19/19 [==============================] - 0s 2ms/step - loss: 0.4872 - accuracy: 0.7609 - val_loss: 0.4206 - val_accuracy: 0.8000\n",
            "Epoch 35/100\n",
            "19/19 [==============================] - 0s 2ms/step - loss: 0.5078 - accuracy: 0.7692 - val_loss: 0.4204 - val_accuracy: 0.8067\n",
            "Epoch 36/100\n",
            "19/19 [==============================] - 0s 2ms/step - loss: 0.4990 - accuracy: 0.7625 - val_loss: 0.4196 - val_accuracy: 0.8067\n",
            "Epoch 37/100\n",
            "19/19 [==============================] - 0s 2ms/step - loss: 0.4997 - accuracy: 0.7625 - val_loss: 0.4193 - val_accuracy: 0.8067\n",
            "Epoch 38/100\n",
            "19/19 [==============================] - 0s 3ms/step - loss: 0.5073 - accuracy: 0.7759 - val_loss: 0.4197 - val_accuracy: 0.8067\n",
            "Epoch 39/100\n",
            "19/19 [==============================] - 0s 2ms/step - loss: 0.4901 - accuracy: 0.7759 - val_loss: 0.4183 - val_accuracy: 0.8133\n",
            "Epoch 40/100\n",
            "19/19 [==============================] - 0s 2ms/step - loss: 0.4888 - accuracy: 0.7659 - val_loss: 0.4170 - val_accuracy: 0.8067\n",
            "Epoch 41/100\n",
            "19/19 [==============================] - 0s 2ms/step - loss: 0.4959 - accuracy: 0.7642 - val_loss: 0.4165 - val_accuracy: 0.8133\n",
            "Epoch 42/100\n",
            "19/19 [==============================] - 0s 2ms/step - loss: 0.4776 - accuracy: 0.7692 - val_loss: 0.4151 - val_accuracy: 0.8133\n",
            "Epoch 43/100\n",
            "19/19 [==============================] - 0s 2ms/step - loss: 0.4937 - accuracy: 0.7676 - val_loss: 0.4142 - val_accuracy: 0.8133\n",
            "Epoch 44/100\n",
            "19/19 [==============================] - 0s 2ms/step - loss: 0.4925 - accuracy: 0.7625 - val_loss: 0.4138 - val_accuracy: 0.8200\n",
            "Epoch 45/100\n",
            "19/19 [==============================] - 0s 2ms/step - loss: 0.4978 - accuracy: 0.7659 - val_loss: 0.4145 - val_accuracy: 0.8133\n",
            "Epoch 46/100\n",
            "19/19 [==============================] - 0s 2ms/step - loss: 0.4958 - accuracy: 0.7676 - val_loss: 0.4143 - val_accuracy: 0.8133\n",
            "Epoch 47/100\n",
            "19/19 [==============================] - 0s 2ms/step - loss: 0.4906 - accuracy: 0.7726 - val_loss: 0.4138 - val_accuracy: 0.8200\n",
            "Epoch 48/100\n",
            "19/19 [==============================] - 0s 2ms/step - loss: 0.4840 - accuracy: 0.7759 - val_loss: 0.4127 - val_accuracy: 0.8133\n",
            "Epoch 49/100\n",
            "19/19 [==============================] - 0s 2ms/step - loss: 0.4775 - accuracy: 0.7759 - val_loss: 0.4112 - val_accuracy: 0.8200\n",
            "Epoch 50/100\n",
            "19/19 [==============================] - 0s 2ms/step - loss: 0.5062 - accuracy: 0.7726 - val_loss: 0.4118 - val_accuracy: 0.8200\n",
            "Epoch 51/100\n",
            "19/19 [==============================] - 0s 2ms/step - loss: 0.4945 - accuracy: 0.7542 - val_loss: 0.4123 - val_accuracy: 0.8200\n",
            "Epoch 52/100\n",
            "19/19 [==============================] - 0s 2ms/step - loss: 0.5025 - accuracy: 0.7742 - val_loss: 0.4126 - val_accuracy: 0.8200\n",
            "Epoch 53/100\n",
            "19/19 [==============================] - 0s 2ms/step - loss: 0.4871 - accuracy: 0.7809 - val_loss: 0.4123 - val_accuracy: 0.8200\n",
            "Epoch 54/100\n",
            "19/19 [==============================] - 0s 3ms/step - loss: 0.4885 - accuracy: 0.7726 - val_loss: 0.4118 - val_accuracy: 0.8200\n",
            "Epoch 55/100\n",
            "19/19 [==============================] - 0s 2ms/step - loss: 0.4894 - accuracy: 0.7809 - val_loss: 0.4117 - val_accuracy: 0.8200\n",
            "Epoch 56/100\n",
            "19/19 [==============================] - 0s 2ms/step - loss: 0.4877 - accuracy: 0.7776 - val_loss: 0.4111 - val_accuracy: 0.8200\n",
            "Epoch 57/100\n",
            "19/19 [==============================] - 0s 2ms/step - loss: 0.4855 - accuracy: 0.7625 - val_loss: 0.4104 - val_accuracy: 0.8200\n",
            "Epoch 58/100\n",
            "19/19 [==============================] - 0s 2ms/step - loss: 0.4891 - accuracy: 0.7625 - val_loss: 0.4101 - val_accuracy: 0.8200\n",
            "Epoch 59/100\n",
            "19/19 [==============================] - 0s 2ms/step - loss: 0.4976 - accuracy: 0.7676 - val_loss: 0.4096 - val_accuracy: 0.8200\n",
            "Epoch 60/100\n",
            "19/19 [==============================] - 0s 2ms/step - loss: 0.4838 - accuracy: 0.7742 - val_loss: 0.4091 - val_accuracy: 0.8267\n",
            "Epoch 61/100\n",
            "19/19 [==============================] - 0s 2ms/step - loss: 0.4898 - accuracy: 0.7793 - val_loss: 0.4088 - val_accuracy: 0.8333\n",
            "Epoch 62/100\n",
            "19/19 [==============================] - 0s 2ms/step - loss: 0.4966 - accuracy: 0.7692 - val_loss: 0.4090 - val_accuracy: 0.8333\n",
            "Epoch 63/100\n",
            "19/19 [==============================] - 0s 2ms/step - loss: 0.4940 - accuracy: 0.7676 - val_loss: 0.4089 - val_accuracy: 0.8333\n",
            "Epoch 64/100\n",
            "19/19 [==============================] - 0s 2ms/step - loss: 0.4891 - accuracy: 0.7726 - val_loss: 0.4089 - val_accuracy: 0.8333\n",
            "Epoch 65/100\n",
            "19/19 [==============================] - 0s 2ms/step - loss: 0.4837 - accuracy: 0.7793 - val_loss: 0.4079 - val_accuracy: 0.8333\n",
            "Epoch 66/100\n",
            "19/19 [==============================] - 0s 2ms/step - loss: 0.4933 - accuracy: 0.7776 - val_loss: 0.4079 - val_accuracy: 0.8333\n",
            "Epoch 67/100\n",
            "19/19 [==============================] - 0s 2ms/step - loss: 0.4869 - accuracy: 0.7726 - val_loss: 0.4072 - val_accuracy: 0.8333\n",
            "Epoch 68/100\n",
            "19/19 [==============================] - 0s 2ms/step - loss: 0.4848 - accuracy: 0.7793 - val_loss: 0.4070 - val_accuracy: 0.8333\n",
            "Epoch 69/100\n",
            "19/19 [==============================] - 0s 2ms/step - loss: 0.4907 - accuracy: 0.7642 - val_loss: 0.4068 - val_accuracy: 0.8333\n",
            "Epoch 70/100\n",
            "19/19 [==============================] - 0s 2ms/step - loss: 0.4894 - accuracy: 0.7692 - val_loss: 0.4066 - val_accuracy: 0.8333\n",
            "Epoch 71/100\n",
            "19/19 [==============================] - 0s 2ms/step - loss: 0.4837 - accuracy: 0.7726 - val_loss: 0.4062 - val_accuracy: 0.8333\n",
            "Epoch 72/100\n",
            "19/19 [==============================] - 0s 2ms/step - loss: 0.4998 - accuracy: 0.7692 - val_loss: 0.4064 - val_accuracy: 0.8333\n",
            "Epoch 73/100\n",
            "19/19 [==============================] - 0s 2ms/step - loss: 0.4962 - accuracy: 0.7692 - val_loss: 0.4072 - val_accuracy: 0.8333\n",
            "Epoch 74/100\n",
            "19/19 [==============================] - 0s 2ms/step - loss: 0.4972 - accuracy: 0.7809 - val_loss: 0.4071 - val_accuracy: 0.8333\n",
            "Epoch 75/100\n",
            "19/19 [==============================] - 0s 2ms/step - loss: 0.4885 - accuracy: 0.7726 - val_loss: 0.4066 - val_accuracy: 0.8400\n",
            "Epoch 76/100\n",
            "19/19 [==============================] - 0s 2ms/step - loss: 0.4802 - accuracy: 0.7742 - val_loss: 0.4059 - val_accuracy: 0.8400\n",
            "Epoch 77/100\n",
            "19/19 [==============================] - 0s 3ms/step - loss: 0.4804 - accuracy: 0.7776 - val_loss: 0.4056 - val_accuracy: 0.8333\n",
            "Epoch 78/100\n",
            "19/19 [==============================] - 0s 2ms/step - loss: 0.4797 - accuracy: 0.7676 - val_loss: 0.4050 - val_accuracy: 0.8400\n",
            "Epoch 79/100\n",
            "19/19 [==============================] - 0s 2ms/step - loss: 0.4896 - accuracy: 0.7659 - val_loss: 0.4054 - val_accuracy: 0.8333\n",
            "Epoch 80/100\n",
            "19/19 [==============================] - 0s 2ms/step - loss: 0.4900 - accuracy: 0.7910 - val_loss: 0.4051 - val_accuracy: 0.8400\n",
            "Epoch 81/100\n",
            "19/19 [==============================] - 0s 2ms/step - loss: 0.4858 - accuracy: 0.7726 - val_loss: 0.4051 - val_accuracy: 0.8400\n",
            "Epoch 82/100\n",
            "19/19 [==============================] - 0s 2ms/step - loss: 0.4932 - accuracy: 0.7793 - val_loss: 0.4055 - val_accuracy: 0.8400\n",
            "Epoch 83/100\n",
            "19/19 [==============================] - 0s 2ms/step - loss: 0.4855 - accuracy: 0.7726 - val_loss: 0.4054 - val_accuracy: 0.8400\n",
            "Epoch 84/100\n",
            "19/19 [==============================] - 0s 2ms/step - loss: 0.4840 - accuracy: 0.7625 - val_loss: 0.4049 - val_accuracy: 0.8400\n",
            "Epoch 85/100\n",
            "19/19 [==============================] - 0s 2ms/step - loss: 0.4910 - accuracy: 0.7709 - val_loss: 0.4054 - val_accuracy: 0.8400\n",
            "Epoch 86/100\n",
            "19/19 [==============================] - 0s 2ms/step - loss: 0.4846 - accuracy: 0.7726 - val_loss: 0.4049 - val_accuracy: 0.8400\n",
            "Epoch 87/100\n",
            "19/19 [==============================] - 0s 2ms/step - loss: 0.4850 - accuracy: 0.7826 - val_loss: 0.4041 - val_accuracy: 0.8400\n",
            "Epoch 88/100\n",
            "19/19 [==============================] - 0s 2ms/step - loss: 0.4950 - accuracy: 0.7709 - val_loss: 0.4047 - val_accuracy: 0.8400\n",
            "Epoch 89/100\n",
            "19/19 [==============================] - 0s 2ms/step - loss: 0.4898 - accuracy: 0.7742 - val_loss: 0.4045 - val_accuracy: 0.8400\n",
            "Epoch 90/100\n",
            "19/19 [==============================] - 0s 2ms/step - loss: 0.4770 - accuracy: 0.7709 - val_loss: 0.4038 - val_accuracy: 0.8400\n",
            "Epoch 91/100\n",
            "19/19 [==============================] - 0s 2ms/step - loss: 0.4798 - accuracy: 0.7860 - val_loss: 0.4038 - val_accuracy: 0.8400\n",
            "Epoch 92/100\n",
            "19/19 [==============================] - 0s 2ms/step - loss: 0.4849 - accuracy: 0.7759 - val_loss: 0.4040 - val_accuracy: 0.8467\n",
            "Epoch 93/100\n",
            "19/19 [==============================] - 0s 2ms/step - loss: 0.4815 - accuracy: 0.7826 - val_loss: 0.4034 - val_accuracy: 0.8467\n",
            "Epoch 94/100\n",
            "19/19 [==============================] - 0s 2ms/step - loss: 0.4822 - accuracy: 0.7826 - val_loss: 0.4031 - val_accuracy: 0.8467\n",
            "Epoch 95/100\n",
            "19/19 [==============================] - 0s 2ms/step - loss: 0.4918 - accuracy: 0.7776 - val_loss: 0.4036 - val_accuracy: 0.8467\n",
            "Epoch 96/100\n",
            "19/19 [==============================] - 0s 2ms/step - loss: 0.4871 - accuracy: 0.7625 - val_loss: 0.4044 - val_accuracy: 0.8467\n",
            "Epoch 97/100\n",
            "19/19 [==============================] - 0s 2ms/step - loss: 0.4857 - accuracy: 0.7742 - val_loss: 0.4046 - val_accuracy: 0.8467\n",
            "Epoch 98/100\n",
            "19/19 [==============================] - 0s 2ms/step - loss: 0.4942 - accuracy: 0.7776 - val_loss: 0.4049 - val_accuracy: 0.8467\n",
            "Epoch 99/100\n",
            "19/19 [==============================] - 0s 2ms/step - loss: 0.4895 - accuracy: 0.7692 - val_loss: 0.4051 - val_accuracy: 0.8467\n",
            "Epoch 100/100\n",
            "19/19 [==============================] - 0s 3ms/step - loss: 0.4878 - accuracy: 0.7843 - val_loss: 0.4056 - val_accuracy: 0.8467\n",
            "dict_keys(['loss', 'accuracy', 'val_loss', 'val_accuracy'])\n"
          ],
          "name": "stdout"
        }
      ]
    },
    {
      "cell_type": "code",
      "metadata": {
        "id": "bSQzM37LY7pM",
        "colab_type": "code",
        "colab": {
          "base_uri": "https://localhost:8080/",
          "height": 573
        },
        "outputId": "62c7a8d9-966c-4666-da86-b5dd8db8f1a7"
      },
      "source": [
        "\n",
        "# summarize history for accuracy\n",
        "plt.plot(history.history['accuracy'])\n",
        "plt.plot(history.history['val_accuracy'])\n",
        "plt.title('model accuracy')\n",
        "plt.ylabel('accuracy')\n",
        "plt.xlabel('epoch')\n",
        "plt.legend(['train', 'test'], loc='upper left')\n",
        "plt.show()\n",
        "# summarize history for loss\n",
        "plt.plot(history.history['loss'])\n",
        "plt.plot(history.history['val_loss'])\n",
        "plt.title('model loss')\n",
        "plt.ylabel('loss')\n",
        "plt.xlabel('epoch')\n",
        "plt.legend(['train', 'test'], loc='upper left')\n",
        "plt.show()"
      ],
      "execution_count": 45,
      "outputs": [
        {
          "output_type": "display_data",
          "data": {
            "image/png": "[encoded data removed]",
            "text/plain": [
              "<Figure size 432x288 with 1 Axes>"
            ]
          },
          "metadata": {
            "tags": [],
            "needs_background": "light"
          }
        },
        {
          "output_type": "display_data",
          "data": {
            "image/png": "[encoded data removed]",
            "text/plain": [
              "<Figure size 432x288 with 1 Axes>"
            ]
          },
          "metadata": {
            "tags": [],
            "needs_background": "light"
          }
        }
      ]
    }
  ]
}