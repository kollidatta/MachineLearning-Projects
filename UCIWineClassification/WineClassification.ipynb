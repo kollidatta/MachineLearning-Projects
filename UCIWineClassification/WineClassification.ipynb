{
  "nbformat": 4,
  "nbformat_minor": 0,
  "metadata": {
    "colab": {
      "name": "WineClassification.ipynb",
      "provenance": [],
      "toc_visible": true
    },
    "kernelspec": {
      "name": "python3",
      "display_name": "Python 3"
    }
  },
  "cells": [
    {
      "cell_type": "code",
      "metadata": {
        "id": "Lr-90e89EnYU",
        "colab_type": "code",
        "colab": {}
      },
      "source": [
        "\n",
        "import pandas as pd\n",
        "import numpy as np\n",
        "import keras.utils as ku\n",
        "from keras.models import Sequential\n",
        "from keras.layers import Dense, Activation, Dropout"
      ],
      "execution_count": null,
      "outputs": []
    },
    {
      "cell_type": "code",
      "metadata": {
        "id": "tQclKQvSFoRx",
        "colab_type": "code",
        "colab": {}
      },
      "source": [
        "df = pd.read_csv('Wine.csv')\n",
        "\n",
        "df.isnull().sum()\n",
        "df.columns = [  'name'\n",
        "                 ,'alcohol'\n",
        "             \t,'malicAcid'\n",
        "             \t,'ash'\n",
        "            \t,'ashalcalinity'\n",
        "             \t,'magnesium'\n",
        "            \t,'totalPhenols'\n",
        "             \t,'flavanoids'\n",
        "             \t,'nonFlavanoidPhenols'\n",
        "             \t,'proanthocyanins'\n",
        "            \t,'colorIntensity'\n",
        "             \t,'hue'\n",
        "             \t,'od280_od315'\n",
        "             \t,'proline'\n",
        "                ]"
      ],
      "execution_count": null,
      "outputs": []
    },
    {
      "cell_type": "code",
      "metadata": {
        "id": "aNgY2dDYlmb0",
        "colab_type": "code",
        "colab": {
          "base_uri": "https://localhost:8080/",
          "height": 439
        },
        "outputId": "c1231c39-a2b4-483e-b0b0-cc59554623fc"
      },
      "source": [
        "#df['name'] = df['name'].map({'1': 0, '2': 1, '3': 2})\n",
        "df"
      ],
      "execution_count": null,
      "outputs": [
        {
          "output_type": "execute_result",
          "data": {
            "text/html": [
              "<div>\n",
              "<style scoped>\n",
              "    .dataframe tbody tr th:only-of-type {\n",
              "        vertical-align: middle;\n",
              "    }\n",
              "\n",
              "    .dataframe tbody tr th {\n",
              "        vertical-align: top;\n",
              "    }\n",
              "\n",
              "    .dataframe thead th {\n",
              "        text-align: right;\n",
              "    }\n",
              "</style>\n",
              "<table border=\"1\" class=\"dataframe\">\n",
              "  <thead>\n",
              "    <tr style=\"text-align: right;\">\n",
              "      <th></th>\n",
              "      <th>name</th>\n",
              "      <th>alcohol</th>\n",
              "      <th>malicAcid</th>\n",
              "      <th>ash</th>\n",
              "      <th>ashalcalinity</th>\n",
              "      <th>magnesium</th>\n",
              "      <th>totalPhenols</th>\n",
              "      <th>flavanoids</th>\n",
              "      <th>nonFlavanoidPhenols</th>\n",
              "      <th>proanthocyanins</th>\n",
              "      <th>colorIntensity</th>\n",
              "      <th>hue</th>\n",
              "      <th>od280_od315</th>\n",
              "      <th>proline</th>\n",
              "    </tr>\n",
              "  </thead>\n",
              "  <tbody>\n",
              "    <tr>\n",
              "      <th>0</th>\n",
              "      <td>0</td>\n",
              "      <td>13.20</td>\n",
              "      <td>1.78</td>\n",
              "      <td>2.14</td>\n",
              "      <td>11.2</td>\n",
              "      <td>100</td>\n",
              "      <td>2.65</td>\n",
              "      <td>2.76</td>\n",
              "      <td>0.26</td>\n",
              "      <td>1.28</td>\n",
              "      <td>4.38</td>\n",
              "      <td>1.05</td>\n",
              "      <td>3.40</td>\n",
              "      <td>1050</td>\n",
              "    </tr>\n",
              "    <tr>\n",
              "      <th>1</th>\n",
              "      <td>0</td>\n",
              "      <td>13.16</td>\n",
              "      <td>2.36</td>\n",
              "      <td>2.67</td>\n",
              "      <td>18.6</td>\n",
              "      <td>101</td>\n",
              "      <td>2.80</td>\n",
              "      <td>3.24</td>\n",
              "      <td>0.30</td>\n",
              "      <td>2.81</td>\n",
              "      <td>5.68</td>\n",
              "      <td>1.03</td>\n",
              "      <td>3.17</td>\n",
              "      <td>1185</td>\n",
              "    </tr>\n",
              "    <tr>\n",
              "      <th>2</th>\n",
              "      <td>0</td>\n",
              "      <td>14.37</td>\n",
              "      <td>1.95</td>\n",
              "      <td>2.50</td>\n",
              "      <td>16.8</td>\n",
              "      <td>113</td>\n",
              "      <td>3.85</td>\n",
              "      <td>3.49</td>\n",
              "      <td>0.24</td>\n",
              "      <td>2.18</td>\n",
              "      <td>7.80</td>\n",
              "      <td>0.86</td>\n",
              "      <td>3.45</td>\n",
              "      <td>1480</td>\n",
              "    </tr>\n",
              "    <tr>\n",
              "      <th>3</th>\n",
              "      <td>0</td>\n",
              "      <td>13.24</td>\n",
              "      <td>2.59</td>\n",
              "      <td>2.87</td>\n",
              "      <td>21.0</td>\n",
              "      <td>118</td>\n",
              "      <td>2.80</td>\n",
              "      <td>2.69</td>\n",
              "      <td>0.39</td>\n",
              "      <td>1.82</td>\n",
              "      <td>4.32</td>\n",
              "      <td>1.04</td>\n",
              "      <td>2.93</td>\n",
              "      <td>735</td>\n",
              "    </tr>\n",
              "    <tr>\n",
              "      <th>4</th>\n",
              "      <td>0</td>\n",
              "      <td>14.20</td>\n",
              "      <td>1.76</td>\n",
              "      <td>2.45</td>\n",
              "      <td>15.2</td>\n",
              "      <td>112</td>\n",
              "      <td>3.27</td>\n",
              "      <td>3.39</td>\n",
              "      <td>0.34</td>\n",
              "      <td>1.97</td>\n",
              "      <td>6.75</td>\n",
              "      <td>1.05</td>\n",
              "      <td>2.85</td>\n",
              "      <td>1450</td>\n",
              "    </tr>\n",
              "    <tr>\n",
              "      <th>...</th>\n",
              "      <td>...</td>\n",
              "      <td>...</td>\n",
              "      <td>...</td>\n",
              "      <td>...</td>\n",
              "      <td>...</td>\n",
              "      <td>...</td>\n",
              "      <td>...</td>\n",
              "      <td>...</td>\n",
              "      <td>...</td>\n",
              "      <td>...</td>\n",
              "      <td>...</td>\n",
              "      <td>...</td>\n",
              "      <td>...</td>\n",
              "      <td>...</td>\n",
              "    </tr>\n",
              "    <tr>\n",
              "      <th>172</th>\n",
              "      <td>2</td>\n",
              "      <td>13.71</td>\n",
              "      <td>5.65</td>\n",
              "      <td>2.45</td>\n",
              "      <td>20.5</td>\n",
              "      <td>95</td>\n",
              "      <td>1.68</td>\n",
              "      <td>0.61</td>\n",
              "      <td>0.52</td>\n",
              "      <td>1.06</td>\n",
              "      <td>7.70</td>\n",
              "      <td>0.64</td>\n",
              "      <td>1.74</td>\n",
              "      <td>740</td>\n",
              "    </tr>\n",
              "    <tr>\n",
              "      <th>173</th>\n",
              "      <td>2</td>\n",
              "      <td>13.40</td>\n",
              "      <td>3.91</td>\n",
              "      <td>2.48</td>\n",
              "      <td>23.0</td>\n",
              "      <td>102</td>\n",
              "      <td>1.80</td>\n",
              "      <td>0.75</td>\n",
              "      <td>0.43</td>\n",
              "      <td>1.41</td>\n",
              "      <td>7.30</td>\n",
              "      <td>0.70</td>\n",
              "      <td>1.56</td>\n",
              "      <td>750</td>\n",
              "    </tr>\n",
              "    <tr>\n",
              "      <th>174</th>\n",
              "      <td>2</td>\n",
              "      <td>13.27</td>\n",
              "      <td>4.28</td>\n",
              "      <td>2.26</td>\n",
              "      <td>20.0</td>\n",
              "      <td>120</td>\n",
              "      <td>1.59</td>\n",
              "      <td>0.69</td>\n",
              "      <td>0.43</td>\n",
              "      <td>1.35</td>\n",
              "      <td>10.20</td>\n",
              "      <td>0.59</td>\n",
              "      <td>1.56</td>\n",
              "      <td>835</td>\n",
              "    </tr>\n",
              "    <tr>\n",
              "      <th>175</th>\n",
              "      <td>2</td>\n",
              "      <td>13.17</td>\n",
              "      <td>2.59</td>\n",
              "      <td>2.37</td>\n",
              "      <td>20.0</td>\n",
              "      <td>120</td>\n",
              "      <td>1.65</td>\n",
              "      <td>0.68</td>\n",
              "      <td>0.53</td>\n",
              "      <td>1.46</td>\n",
              "      <td>9.30</td>\n",
              "      <td>0.60</td>\n",
              "      <td>1.62</td>\n",
              "      <td>840</td>\n",
              "    </tr>\n",
              "    <tr>\n",
              "      <th>176</th>\n",
              "      <td>2</td>\n",
              "      <td>14.13</td>\n",
              "      <td>4.10</td>\n",
              "      <td>2.74</td>\n",
              "      <td>24.5</td>\n",
              "      <td>96</td>\n",
              "      <td>2.05</td>\n",
              "      <td>0.76</td>\n",
              "      <td>0.56</td>\n",
              "      <td>1.35</td>\n",
              "      <td>9.20</td>\n",
              "      <td>0.61</td>\n",
              "      <td>1.60</td>\n",
              "      <td>560</td>\n",
              "    </tr>\n",
              "  </tbody>\n",
              "</table>\n",
              "<p>177 rows × 14 columns</p>\n",
              "</div>"
            ],
            "text/plain": [
              "     name  alcohol  malicAcid   ash  ...  colorIntensity   hue  od280_od315  proline\n",
              "0       0    13.20       1.78  2.14  ...            4.38  1.05         3.40     1050\n",
              "1       0    13.16       2.36  2.67  ...            5.68  1.03         3.17     1185\n",
              "2       0    14.37       1.95  2.50  ...            7.80  0.86         3.45     1480\n",
              "3       0    13.24       2.59  2.87  ...            4.32  1.04         2.93      735\n",
              "4       0    14.20       1.76  2.45  ...            6.75  1.05         2.85     1450\n",
              "..    ...      ...        ...   ...  ...             ...   ...          ...      ...\n",
              "172     2    13.71       5.65  2.45  ...            7.70  0.64         1.74      740\n",
              "173     2    13.40       3.91  2.48  ...            7.30  0.70         1.56      750\n",
              "174     2    13.27       4.28  2.26  ...           10.20  0.59         1.56      835\n",
              "175     2    13.17       2.59  2.37  ...            9.30  0.60         1.62      840\n",
              "176     2    14.13       4.10  2.74  ...            9.20  0.61         1.60      560\n",
              "\n",
              "[177 rows x 14 columns]"
            ]
          },
          "metadata": {
            "tags": []
          },
          "execution_count": 32
        }
      ]
    },
    {
      "cell_type": "code",
      "metadata": {
        "id": "NHGI-pww41oM",
        "colab_type": "code",
        "colab": {
          "base_uri": "https://localhost:8080/",
          "height": 382
        },
        "outputId": "ee6167b7-d4fe-4df7-eb4f-ee302979ac22"
      },
      "source": [
        "import seaborn as sns\n",
        "correlations = df[df.columns].corr(method='pearson')\n",
        "sns.heatmap(correlations, cmap=\"YlGnBu\", annot = True)"
      ],
      "execution_count": null,
      "outputs": [
        {
          "output_type": "execute_result",
          "data": {
            "text/plain": [
              "<matplotlib.axes._subplots.AxesSubplot at 0x7f639a5a87b8>"
            ]
          },
          "metadata": {
            "tags": []
          },
          "execution_count": 33
        },
        {
          "output_type": "display_data",
          "data": {
            "image/png": "[encoded data removed]",
            "text/plain": [
              "<Figure size 432x288 with 2 Axes>"
            ]
          },
          "metadata": {
            "tags": [],
            "needs_background": "light"
          }
        }
      ]
    },
    {
      "cell_type": "code",
      "metadata": {
        "id": "Sjtw5a7E4_Bp",
        "colab_type": "code",
        "colab": {
          "base_uri": "https://localhost:8080/",
          "height": 425
        },
        "outputId": "8c1b1ddd-375b-4de6-a355-4f1254d5d265"
      },
      "source": [
        "import heapq\n",
        "\n",
        "print('Absolute overall correlations')\n",
        "print('-' * 30)\n",
        "correlations_abs_sum = correlations[correlations.columns].abs().sum()\n",
        "print(correlations_abs_sum, '\\n')\n",
        "\n",
        "print('Weakest correlations')\n",
        "print('-' * 30)\n",
        "print(correlations_abs_sum.nsmallest(3))"
      ],
      "execution_count": null,
      "outputs": [
        {
          "output_type": "stream",
          "text": [
            "Absolute overall correlations\n",
            "------------------------------\n",
            "name                   7.368958\n",
            "alcohol                4.309682\n",
            "malicAcid              4.655692\n",
            "ash                    3.153986\n",
            "ashalcalinity          4.834784\n",
            "magnesium              3.425328\n",
            "totalPhenols           6.597619\n",
            "flavanoids             7.179845\n",
            "nonFlavanoidPhenols    5.289542\n",
            "proanthocyanins        5.050497\n",
            "colorIntensity         4.217064\n",
            "hue                    5.511051\n",
            "od280_od315            6.337598\n",
            "proline                5.987365\n",
            "dtype: float64 \n",
            "\n",
            "Weakest correlations\n",
            "------------------------------\n",
            "ash               3.153986\n",
            "magnesium         3.425328\n",
            "colorIntensity    4.217064\n",
            "dtype: float64\n"
          ],
          "name": "stdout"
        }
      ]
    },
    {
      "cell_type": "code",
      "metadata": {
        "id": "MdcFbb8J-154",
        "colab_type": "code",
        "colab": {
          "base_uri": "https://localhost:8080/",
          "height": 85
        },
        "outputId": "e2b01495-8222-4e20-9bea-64d250ea07d5"
      },
      "source": [
        "print(df.columns)"
      ],
      "execution_count": null,
      "outputs": [
        {
          "output_type": "stream",
          "text": [
            "Index(['name', 'alcohol', 'malicAcid', 'ash', 'ashalcalinity', 'magnesium',\n",
            "       'totalPhenols', 'flavanoids', 'nonFlavanoidPhenols', 'proanthocyanins',\n",
            "       'colorIntensity', 'hue', 'od280_od315', 'proline'],\n",
            "      dtype='object')\n"
          ],
          "name": "stdout"
        }
      ]
    },
    {
      "cell_type": "code",
      "metadata": {
        "id": "UF-5e-1G-bHK",
        "colab_type": "code",
        "colab": {}
      },
      "source": [
        "df = df.drop(columns=['ash','magnesium', 'colorIntensity'], axis =1)"
      ],
      "execution_count": null,
      "outputs": []
    },
    {
      "cell_type": "code",
      "metadata": {
        "id": "zTIn3qydZx3p",
        "colab_type": "code",
        "colab": {
          "base_uri": "https://localhost:8080/",
          "height": 51
        },
        "outputId": "2f4c78f4-612c-408c-d0dc-faccfefc1025"
      },
      "source": [
        "#Selecting dependent and independent variables\n",
        "y = df.iloc[: ,0 ].values\n",
        "X = df.iloc[:, 1:15].values\n",
        "X[1]"
      ],
      "execution_count": null,
      "outputs": [
        {
          "output_type": "execute_result",
          "data": {
            "text/plain": [
              "array([1.316e+01, 2.360e+00, 1.860e+01, 2.800e+00, 3.240e+00, 3.000e-01,\n",
              "       2.810e+00, 1.030e+00, 3.170e+00, 1.185e+03])"
            ]
          },
          "metadata": {
            "tags": []
          },
          "execution_count": 37
        }
      ]
    },
    {
      "cell_type": "code",
      "metadata": {
        "id": "8Pa0gTQkfskz",
        "colab_type": "code",
        "colab": {
          "base_uri": "https://localhost:8080/",
          "height": 204
        },
        "outputId": "bde07525-7a0b-4957-c493-1382da44fd6a"
      },
      "source": [
        "df_hotencoded = pd.get_dummies(y)\n",
        "df_hotencoded.head()"
      ],
      "execution_count": null,
      "outputs": [
        {
          "output_type": "execute_result",
          "data": {
            "text/html": [
              "<div>\n",
              "<style scoped>\n",
              "    .dataframe tbody tr th:only-of-type {\n",
              "        vertical-align: middle;\n",
              "    }\n",
              "\n",
              "    .dataframe tbody tr th {\n",
              "        vertical-align: top;\n",
              "    }\n",
              "\n",
              "    .dataframe thead th {\n",
              "        text-align: right;\n",
              "    }\n",
              "</style>\n",
              "<table border=\"1\" class=\"dataframe\">\n",
              "  <thead>\n",
              "    <tr style=\"text-align: right;\">\n",
              "      <th></th>\n",
              "      <th>0</th>\n",
              "      <th>1</th>\n",
              "      <th>2</th>\n",
              "    </tr>\n",
              "  </thead>\n",
              "  <tbody>\n",
              "    <tr>\n",
              "      <th>0</th>\n",
              "      <td>1</td>\n",
              "      <td>0</td>\n",
              "      <td>0</td>\n",
              "    </tr>\n",
              "    <tr>\n",
              "      <th>1</th>\n",
              "      <td>1</td>\n",
              "      <td>0</td>\n",
              "      <td>0</td>\n",
              "    </tr>\n",
              "    <tr>\n",
              "      <th>2</th>\n",
              "      <td>1</td>\n",
              "      <td>0</td>\n",
              "      <td>0</td>\n",
              "    </tr>\n",
              "    <tr>\n",
              "      <th>3</th>\n",
              "      <td>1</td>\n",
              "      <td>0</td>\n",
              "      <td>0</td>\n",
              "    </tr>\n",
              "    <tr>\n",
              "      <th>4</th>\n",
              "      <td>1</td>\n",
              "      <td>0</td>\n",
              "      <td>0</td>\n",
              "    </tr>\n",
              "  </tbody>\n",
              "</table>\n",
              "</div>"
            ],
            "text/plain": [
              "   0  1  2\n",
              "0  1  0  0\n",
              "1  1  0  0\n",
              "2  1  0  0\n",
              "3  1  0  0\n",
              "4  1  0  0"
            ]
          },
          "metadata": {
            "tags": []
          },
          "execution_count": 38
        }
      ]
    },
    {
      "cell_type": "code",
      "metadata": {
        "id": "T7qdhGaJF2w5",
        "colab_type": "code",
        "colab": {
          "base_uri": "https://localhost:8080/",
          "height": 1000
        },
        "outputId": "5e24a757-febf-444a-b79b-6d2669714613"
      },
      "source": [
        "from sklearn.model_selection import train_test_split\n",
        "X_train, X_test, y_train, y_test = train_test_split(X, df_hotencoded, test_size = 0.20)\n",
        "y_test"
      ],
      "execution_count": null,
      "outputs": [
        {
          "output_type": "execute_result",
          "data": {
            "text/html": [
              "<div>\n",
              "<style scoped>\n",
              "    .dataframe tbody tr th:only-of-type {\n",
              "        vertical-align: middle;\n",
              "    }\n",
              "\n",
              "    .dataframe tbody tr th {\n",
              "        vertical-align: top;\n",
              "    }\n",
              "\n",
              "    .dataframe thead th {\n",
              "        text-align: right;\n",
              "    }\n",
              "</style>\n",
              "<table border=\"1\" class=\"dataframe\">\n",
              "  <thead>\n",
              "    <tr style=\"text-align: right;\">\n",
              "      <th></th>\n",
              "      <th>0</th>\n",
              "      <th>1</th>\n",
              "      <th>2</th>\n",
              "    </tr>\n",
              "  </thead>\n",
              "  <tbody>\n",
              "    <tr>\n",
              "      <th>56</th>\n",
              "      <td>1</td>\n",
              "      <td>0</td>\n",
              "      <td>0</td>\n",
              "    </tr>\n",
              "    <tr>\n",
              "      <th>34</th>\n",
              "      <td>1</td>\n",
              "      <td>0</td>\n",
              "      <td>0</td>\n",
              "    </tr>\n",
              "    <tr>\n",
              "      <th>101</th>\n",
              "      <td>0</td>\n",
              "      <td>1</td>\n",
              "      <td>0</td>\n",
              "    </tr>\n",
              "    <tr>\n",
              "      <th>97</th>\n",
              "      <td>0</td>\n",
              "      <td>1</td>\n",
              "      <td>0</td>\n",
              "    </tr>\n",
              "    <tr>\n",
              "      <th>139</th>\n",
              "      <td>0</td>\n",
              "      <td>0</td>\n",
              "      <td>1</td>\n",
              "    </tr>\n",
              "    <tr>\n",
              "      <th>7</th>\n",
              "      <td>1</td>\n",
              "      <td>0</td>\n",
              "      <td>0</td>\n",
              "    </tr>\n",
              "    <tr>\n",
              "      <th>85</th>\n",
              "      <td>0</td>\n",
              "      <td>1</td>\n",
              "      <td>0</td>\n",
              "    </tr>\n",
              "    <tr>\n",
              "      <th>53</th>\n",
              "      <td>1</td>\n",
              "      <td>0</td>\n",
              "      <td>0</td>\n",
              "    </tr>\n",
              "    <tr>\n",
              "      <th>130</th>\n",
              "      <td>0</td>\n",
              "      <td>0</td>\n",
              "      <td>1</td>\n",
              "    </tr>\n",
              "    <tr>\n",
              "      <th>133</th>\n",
              "      <td>0</td>\n",
              "      <td>0</td>\n",
              "      <td>1</td>\n",
              "    </tr>\n",
              "    <tr>\n",
              "      <th>10</th>\n",
              "      <td>1</td>\n",
              "      <td>0</td>\n",
              "      <td>0</td>\n",
              "    </tr>\n",
              "    <tr>\n",
              "      <th>44</th>\n",
              "      <td>1</td>\n",
              "      <td>0</td>\n",
              "      <td>0</td>\n",
              "    </tr>\n",
              "    <tr>\n",
              "      <th>109</th>\n",
              "      <td>0</td>\n",
              "      <td>1</td>\n",
              "      <td>0</td>\n",
              "    </tr>\n",
              "    <tr>\n",
              "      <th>148</th>\n",
              "      <td>0</td>\n",
              "      <td>0</td>\n",
              "      <td>1</td>\n",
              "    </tr>\n",
              "    <tr>\n",
              "      <th>43</th>\n",
              "      <td>1</td>\n",
              "      <td>0</td>\n",
              "      <td>0</td>\n",
              "    </tr>\n",
              "    <tr>\n",
              "      <th>35</th>\n",
              "      <td>1</td>\n",
              "      <td>0</td>\n",
              "      <td>0</td>\n",
              "    </tr>\n",
              "    <tr>\n",
              "      <th>103</th>\n",
              "      <td>0</td>\n",
              "      <td>1</td>\n",
              "      <td>0</td>\n",
              "    </tr>\n",
              "    <tr>\n",
              "      <th>60</th>\n",
              "      <td>0</td>\n",
              "      <td>1</td>\n",
              "      <td>0</td>\n",
              "    </tr>\n",
              "    <tr>\n",
              "      <th>173</th>\n",
              "      <td>0</td>\n",
              "      <td>0</td>\n",
              "      <td>1</td>\n",
              "    </tr>\n",
              "    <tr>\n",
              "      <th>113</th>\n",
              "      <td>0</td>\n",
              "      <td>1</td>\n",
              "      <td>0</td>\n",
              "    </tr>\n",
              "    <tr>\n",
              "      <th>106</th>\n",
              "      <td>0</td>\n",
              "      <td>1</td>\n",
              "      <td>0</td>\n",
              "    </tr>\n",
              "    <tr>\n",
              "      <th>83</th>\n",
              "      <td>0</td>\n",
              "      <td>1</td>\n",
              "      <td>0</td>\n",
              "    </tr>\n",
              "    <tr>\n",
              "      <th>81</th>\n",
              "      <td>0</td>\n",
              "      <td>1</td>\n",
              "      <td>0</td>\n",
              "    </tr>\n",
              "    <tr>\n",
              "      <th>150</th>\n",
              "      <td>0</td>\n",
              "      <td>0</td>\n",
              "      <td>1</td>\n",
              "    </tr>\n",
              "    <tr>\n",
              "      <th>165</th>\n",
              "      <td>0</td>\n",
              "      <td>0</td>\n",
              "      <td>1</td>\n",
              "    </tr>\n",
              "    <tr>\n",
              "      <th>151</th>\n",
              "      <td>0</td>\n",
              "      <td>0</td>\n",
              "      <td>1</td>\n",
              "    </tr>\n",
              "    <tr>\n",
              "      <th>49</th>\n",
              "      <td>1</td>\n",
              "      <td>0</td>\n",
              "      <td>0</td>\n",
              "    </tr>\n",
              "    <tr>\n",
              "      <th>124</th>\n",
              "      <td>0</td>\n",
              "      <td>1</td>\n",
              "      <td>0</td>\n",
              "    </tr>\n",
              "    <tr>\n",
              "      <th>88</th>\n",
              "      <td>0</td>\n",
              "      <td>1</td>\n",
              "      <td>0</td>\n",
              "    </tr>\n",
              "    <tr>\n",
              "      <th>132</th>\n",
              "      <td>0</td>\n",
              "      <td>0</td>\n",
              "      <td>1</td>\n",
              "    </tr>\n",
              "    <tr>\n",
              "      <th>47</th>\n",
              "      <td>1</td>\n",
              "      <td>0</td>\n",
              "      <td>0</td>\n",
              "    </tr>\n",
              "    <tr>\n",
              "      <th>136</th>\n",
              "      <td>0</td>\n",
              "      <td>0</td>\n",
              "      <td>1</td>\n",
              "    </tr>\n",
              "    <tr>\n",
              "      <th>74</th>\n",
              "      <td>0</td>\n",
              "      <td>1</td>\n",
              "      <td>0</td>\n",
              "    </tr>\n",
              "    <tr>\n",
              "      <th>2</th>\n",
              "      <td>1</td>\n",
              "      <td>0</td>\n",
              "      <td>0</td>\n",
              "    </tr>\n",
              "    <tr>\n",
              "      <th>112</th>\n",
              "      <td>0</td>\n",
              "      <td>1</td>\n",
              "      <td>0</td>\n",
              "    </tr>\n",
              "    <tr>\n",
              "      <th>94</th>\n",
              "      <td>0</td>\n",
              "      <td>1</td>\n",
              "      <td>0</td>\n",
              "    </tr>\n",
              "  </tbody>\n",
              "</table>\n",
              "</div>"
            ],
            "text/plain": [
              "     0  1  2\n",
              "56   1  0  0\n",
              "34   1  0  0\n",
              "101  0  1  0\n",
              "97   0  1  0\n",
              "139  0  0  1\n",
              "7    1  0  0\n",
              "85   0  1  0\n",
              "53   1  0  0\n",
              "130  0  0  1\n",
              "133  0  0  1\n",
              "10   1  0  0\n",
              "44   1  0  0\n",
              "109  0  1  0\n",
              "148  0  0  1\n",
              "43   1  0  0\n",
              "35   1  0  0\n",
              "103  0  1  0\n",
              "60   0  1  0\n",
              "173  0  0  1\n",
              "113  0  1  0\n",
              "106  0  1  0\n",
              "83   0  1  0\n",
              "81   0  1  0\n",
              "150  0  0  1\n",
              "165  0  0  1\n",
              "151  0  0  1\n",
              "49   1  0  0\n",
              "124  0  1  0\n",
              "88   0  1  0\n",
              "132  0  0  1\n",
              "47   1  0  0\n",
              "136  0  0  1\n",
              "74   0  1  0\n",
              "2    1  0  0\n",
              "112  0  1  0\n",
              "94   0  1  0"
            ]
          },
          "metadata": {
            "tags": []
          },
          "execution_count": 39
        }
      ]
    },
    {
      "cell_type": "code",
      "metadata": {
        "id": "yzDtbe7ZtwFp",
        "colab_type": "code",
        "colab": {}
      },
      "source": [
        "from sklearn.preprocessing import StandardScaler\n",
        "sc = StandardScaler()\n",
        "X_train = sc.fit_transform(X_train)\n",
        "X_test = sc.transform(X_test)"
      ],
      "execution_count": null,
      "outputs": []
    },
    {
      "cell_type": "code",
      "metadata": {
        "id": "zKRkvUnyK-dh",
        "colab_type": "code",
        "colab": {
          "base_uri": "https://localhost:8080/",
          "height": 34
        },
        "outputId": "f90ce76b-8dab-4467-ef8b-dd6cc101f037"
      },
      "source": [
        "X_train[1]\n",
        "len(y_train)"
      ],
      "execution_count": null,
      "outputs": [
        {
          "output_type": "execute_result",
          "data": {
            "text/plain": [
              "141"
            ]
          },
          "metadata": {
            "tags": []
          },
          "execution_count": 41
        }
      ]
    },
    {
      "cell_type": "code",
      "metadata": {
        "id": "ZvfZT4AOF5TD",
        "colab_type": "code",
        "colab": {}
      },
      "source": [
        "import tensorflow as tf\n",
        "\n"
      ],
      "execution_count": null,
      "outputs": []
    },
    {
      "cell_type": "code",
      "metadata": {
        "id": "Fdqk--ZRIMGJ",
        "colab_type": "code",
        "colab": {}
      },
      "source": [
        "ann = tf.keras.models.Sequential()\n"
      ],
      "execution_count": null,
      "outputs": []
    },
    {
      "cell_type": "code",
      "metadata": {
        "id": "FUQ9YHUWIj3w",
        "colab_type": "code",
        "colab": {}
      },
      "source": [
        "ann.add(tf.keras.layers.Dense(units = 32, input_dim = 10, activation='relu'))\n",
        "ann.add(tf.keras.layers.Dense(units = 64, activation='relu'))\n",
        "\n",
        "ann.add(tf.keras.layers.Dense(units = 128, activation='relu'))\n",
        "ann.add(tf.keras.layers.Dense(units = 3, activation='softmax'))\n",
        "\n"
      ],
      "execution_count": null,
      "outputs": []
    },
    {
      "cell_type": "code",
      "metadata": {
        "id": "d_toFzkUyyo0",
        "colab_type": "code",
        "colab": {}
      },
      "source": [
        "opt = tf.keras.optimizers.Adam(learning_rate=0.01)"
      ],
      "execution_count": null,
      "outputs": []
    },
    {
      "cell_type": "code",
      "metadata": {
        "id": "r6arWfuzI7KN",
        "colab_type": "code",
        "colab": {}
      },
      "source": [
        "ann.compile(optimizer= opt,  loss = 'categorical_crossentropy', metrics= ['accuracy'])"
      ],
      "execution_count": null,
      "outputs": []
    },
    {
      "cell_type": "code",
      "metadata": {
        "id": "fgl5gETYJriw",
        "colab_type": "code",
        "colab": {
          "base_uri": "https://localhost:8080/",
          "height": 1000
        },
        "outputId": "d4338291-f039-4d12-e0a8-2148fa6392b2"
      },
      "source": [
        "ann.fit(X_train, y_train, validation_data=(X_test, y_test), batch_size=32 , epochs=100, )"
      ],
      "execution_count": null,
      "outputs": [
        {
          "output_type": "stream",
          "text": [
            "Epoch 1/100\n",
            "5/5 [==============================] - 0s 27ms/step - loss: 0.7200 - accuracy: 0.7447 - val_loss: 0.2333 - val_accuracy: 0.9167\n",
            "Epoch 2/100\n",
            "5/5 [==============================] - 0s 9ms/step - loss: 0.1749 - accuracy: 0.9504 - val_loss: 0.1523 - val_accuracy: 0.9444\n",
            "Epoch 3/100\n",
            "5/5 [==============================] - 0s 9ms/step - loss: 0.1099 - accuracy: 0.9433 - val_loss: 0.0047 - val_accuracy: 1.0000\n",
            "Epoch 4/100\n",
            "5/5 [==============================] - 0s 9ms/step - loss: 0.1243 - accuracy: 0.9645 - val_loss: 0.0033 - val_accuracy: 1.0000\n",
            "Epoch 5/100\n",
            "5/5 [==============================] - 0s 9ms/step - loss: 0.0231 - accuracy: 0.9858 - val_loss: 0.0967 - val_accuracy: 0.9444\n",
            "Epoch 6/100\n",
            "5/5 [==============================] - 0s 9ms/step - loss: 0.0232 - accuracy: 0.9787 - val_loss: 0.0468 - val_accuracy: 0.9444\n",
            "Epoch 7/100\n",
            "5/5 [==============================] - 0s 9ms/step - loss: 0.0101 - accuracy: 1.0000 - val_loss: 0.0053 - val_accuracy: 1.0000\n",
            "Epoch 8/100\n",
            "5/5 [==============================] - 0s 9ms/step - loss: 0.0064 - accuracy: 1.0000 - val_loss: 0.0360 - val_accuracy: 0.9722\n",
            "Epoch 9/100\n",
            "5/5 [==============================] - 0s 10ms/step - loss: 0.0017 - accuracy: 1.0000 - val_loss: 0.1071 - val_accuracy: 0.9722\n",
            "Epoch 10/100\n",
            "5/5 [==============================] - 0s 9ms/step - loss: 0.0016 - accuracy: 1.0000 - val_loss: 0.0679 - val_accuracy: 0.9722\n",
            "Epoch 11/100\n",
            "5/5 [==============================] - 0s 11ms/step - loss: 7.9936e-04 - accuracy: 1.0000 - val_loss: 0.0416 - val_accuracy: 0.9722\n",
            "Epoch 12/100\n",
            "5/5 [==============================] - 0s 10ms/step - loss: 6.3958e-04 - accuracy: 1.0000 - val_loss: 0.0400 - val_accuracy: 0.9722\n",
            "Epoch 13/100\n",
            "5/5 [==============================] - 0s 9ms/step - loss: 4.9495e-04 - accuracy: 1.0000 - val_loss: 0.0419 - val_accuracy: 0.9722\n",
            "Epoch 14/100\n",
            "5/5 [==============================] - 0s 9ms/step - loss: 3.9934e-04 - accuracy: 1.0000 - val_loss: 0.0427 - val_accuracy: 0.9722\n",
            "Epoch 15/100\n",
            "5/5 [==============================] - 0s 9ms/step - loss: 3.3474e-04 - accuracy: 1.0000 - val_loss: 0.0453 - val_accuracy: 0.9722\n",
            "Epoch 16/100\n",
            "5/5 [==============================] - 0s 10ms/step - loss: 2.8186e-04 - accuracy: 1.0000 - val_loss: 0.0447 - val_accuracy: 0.9722\n",
            "Epoch 17/100\n",
            "5/5 [==============================] - 0s 10ms/step - loss: 2.4538e-04 - accuracy: 1.0000 - val_loss: 0.0469 - val_accuracy: 0.9722\n",
            "Epoch 18/100\n",
            "5/5 [==============================] - 0s 10ms/step - loss: 2.0822e-04 - accuracy: 1.0000 - val_loss: 0.0481 - val_accuracy: 0.9722\n",
            "Epoch 19/100\n",
            "5/5 [==============================] - 0s 9ms/step - loss: 1.8270e-04 - accuracy: 1.0000 - val_loss: 0.0487 - val_accuracy: 0.9722\n",
            "Epoch 20/100\n",
            "5/5 [==============================] - 0s 9ms/step - loss: 1.6168e-04 - accuracy: 1.0000 - val_loss: 0.0517 - val_accuracy: 0.9722\n",
            "Epoch 21/100\n",
            "5/5 [==============================] - 0s 9ms/step - loss: 1.4279e-04 - accuracy: 1.0000 - val_loss: 0.0540 - val_accuracy: 0.9722\n",
            "Epoch 22/100\n",
            "5/5 [==============================] - 0s 9ms/step - loss: 1.3011e-04 - accuracy: 1.0000 - val_loss: 0.0544 - val_accuracy: 0.9722\n",
            "Epoch 23/100\n",
            "5/5 [==============================] - 0s 8ms/step - loss: 1.1794e-04 - accuracy: 1.0000 - val_loss: 0.0586 - val_accuracy: 0.9722\n",
            "Epoch 24/100\n",
            "5/5 [==============================] - 0s 9ms/step - loss: 1.0569e-04 - accuracy: 1.0000 - val_loss: 0.0612 - val_accuracy: 0.9722\n",
            "Epoch 25/100\n",
            "5/5 [==============================] - 0s 9ms/step - loss: 9.5439e-05 - accuracy: 1.0000 - val_loss: 0.0612 - val_accuracy: 0.9722\n",
            "Epoch 26/100\n",
            "5/5 [==============================] - 0s 9ms/step - loss: 8.8351e-05 - accuracy: 1.0000 - val_loss: 0.0624 - val_accuracy: 0.9722\n",
            "Epoch 27/100\n",
            "5/5 [==============================] - 0s 10ms/step - loss: 8.1859e-05 - accuracy: 1.0000 - val_loss: 0.0621 - val_accuracy: 0.9722\n",
            "Epoch 28/100\n",
            "5/5 [==============================] - 0s 9ms/step - loss: 7.5859e-05 - accuracy: 1.0000 - val_loss: 0.0628 - val_accuracy: 0.9722\n",
            "Epoch 29/100\n",
            "5/5 [==============================] - 0s 9ms/step - loss: 7.0919e-05 - accuracy: 1.0000 - val_loss: 0.0639 - val_accuracy: 0.9722\n",
            "Epoch 30/100\n",
            "5/5 [==============================] - 0s 9ms/step - loss: 6.7061e-05 - accuracy: 1.0000 - val_loss: 0.0650 - val_accuracy: 0.9722\n",
            "Epoch 31/100\n",
            "5/5 [==============================] - 0s 9ms/step - loss: 6.3192e-05 - accuracy: 1.0000 - val_loss: 0.0665 - val_accuracy: 0.9722\n",
            "Epoch 32/100\n",
            "5/5 [==============================] - 0s 9ms/step - loss: 5.9548e-05 - accuracy: 1.0000 - val_loss: 0.0703 - val_accuracy: 0.9722\n",
            "Epoch 33/100\n",
            "5/5 [==============================] - 0s 9ms/step - loss: 5.6893e-05 - accuracy: 1.0000 - val_loss: 0.0737 - val_accuracy: 0.9722\n",
            "Epoch 34/100\n",
            "5/5 [==============================] - 0s 9ms/step - loss: 5.4119e-05 - accuracy: 1.0000 - val_loss: 0.0761 - val_accuracy: 0.9722\n",
            "Epoch 35/100\n",
            "5/5 [==============================] - 0s 9ms/step - loss: 5.1418e-05 - accuracy: 1.0000 - val_loss: 0.0766 - val_accuracy: 0.9722\n",
            "Epoch 36/100\n",
            "5/5 [==============================] - 0s 11ms/step - loss: 4.8878e-05 - accuracy: 1.0000 - val_loss: 0.0756 - val_accuracy: 0.9722\n",
            "Epoch 37/100\n",
            "5/5 [==============================] - 0s 9ms/step - loss: 4.6420e-05 - accuracy: 1.0000 - val_loss: 0.0727 - val_accuracy: 0.9722\n",
            "Epoch 38/100\n",
            "5/5 [==============================] - 0s 9ms/step - loss: 4.4409e-05 - accuracy: 1.0000 - val_loss: 0.0723 - val_accuracy: 0.9722\n",
            "Epoch 39/100\n",
            "5/5 [==============================] - 0s 9ms/step - loss: 4.2232e-05 - accuracy: 1.0000 - val_loss: 0.0715 - val_accuracy: 0.9722\n",
            "Epoch 40/100\n",
            "5/5 [==============================] - 0s 8ms/step - loss: 4.0272e-05 - accuracy: 1.0000 - val_loss: 0.0720 - val_accuracy: 0.9722\n",
            "Epoch 41/100\n",
            "5/5 [==============================] - 0s 8ms/step - loss: 3.8748e-05 - accuracy: 1.0000 - val_loss: 0.0723 - val_accuracy: 0.9722\n",
            "Epoch 42/100\n",
            "5/5 [==============================] - 0s 9ms/step - loss: 3.7223e-05 - accuracy: 1.0000 - val_loss: 0.0729 - val_accuracy: 0.9722\n",
            "Epoch 43/100\n",
            "5/5 [==============================] - 0s 9ms/step - loss: 3.5848e-05 - accuracy: 1.0000 - val_loss: 0.0740 - val_accuracy: 0.9722\n",
            "Epoch 44/100\n",
            "5/5 [==============================] - 0s 9ms/step - loss: 3.4167e-05 - accuracy: 1.0000 - val_loss: 0.0755 - val_accuracy: 0.9722\n",
            "Epoch 45/100\n",
            "5/5 [==============================] - 0s 10ms/step - loss: 3.2933e-05 - accuracy: 1.0000 - val_loss: 0.0755 - val_accuracy: 0.9722\n",
            "Epoch 46/100\n",
            "5/5 [==============================] - 0s 10ms/step - loss: 3.1728e-05 - accuracy: 1.0000 - val_loss: 0.0764 - val_accuracy: 0.9722\n",
            "Epoch 47/100\n",
            "5/5 [==============================] - 0s 9ms/step - loss: 3.0697e-05 - accuracy: 1.0000 - val_loss: 0.0791 - val_accuracy: 0.9722\n",
            "Epoch 48/100\n",
            "5/5 [==============================] - 0s 9ms/step - loss: 2.9491e-05 - accuracy: 1.0000 - val_loss: 0.0812 - val_accuracy: 0.9722\n",
            "Epoch 49/100\n",
            "5/5 [==============================] - 0s 9ms/step - loss: 2.8435e-05 - accuracy: 1.0000 - val_loss: 0.0832 - val_accuracy: 0.9722\n",
            "Epoch 50/100\n",
            "5/5 [==============================] - 0s 9ms/step - loss: 2.7477e-05 - accuracy: 1.0000 - val_loss: 0.0852 - val_accuracy: 0.9722\n",
            "Epoch 51/100\n",
            "5/5 [==============================] - 0s 9ms/step - loss: 2.6674e-05 - accuracy: 1.0000 - val_loss: 0.0857 - val_accuracy: 0.9722\n",
            "Epoch 52/100\n",
            "5/5 [==============================] - 0s 9ms/step - loss: 2.5755e-05 - accuracy: 1.0000 - val_loss: 0.0864 - val_accuracy: 0.9722\n",
            "Epoch 53/100\n",
            "5/5 [==============================] - 0s 10ms/step - loss: 2.4950e-05 - accuracy: 1.0000 - val_loss: 0.0865 - val_accuracy: 0.9722\n",
            "Epoch 54/100\n",
            "5/5 [==============================] - 0s 9ms/step - loss: 2.4113e-05 - accuracy: 1.0000 - val_loss: 0.0866 - val_accuracy: 0.9722\n",
            "Epoch 55/100\n",
            "5/5 [==============================] - 0s 10ms/step - loss: 2.3509e-05 - accuracy: 1.0000 - val_loss: 0.0869 - val_accuracy: 0.9722\n",
            "Epoch 56/100\n",
            "5/5 [==============================] - 0s 10ms/step - loss: 2.2777e-05 - accuracy: 1.0000 - val_loss: 0.0865 - val_accuracy: 0.9722\n",
            "Epoch 57/100\n",
            "5/5 [==============================] - 0s 9ms/step - loss: 2.2222e-05 - accuracy: 1.0000 - val_loss: 0.0868 - val_accuracy: 0.9722\n",
            "Epoch 58/100\n",
            "5/5 [==============================] - 0s 9ms/step - loss: 2.1458e-05 - accuracy: 1.0000 - val_loss: 0.0870 - val_accuracy: 0.9722\n",
            "Epoch 59/100\n",
            "5/5 [==============================] - 0s 9ms/step - loss: 2.0840e-05 - accuracy: 1.0000 - val_loss: 0.0863 - val_accuracy: 0.9722\n",
            "Epoch 60/100\n",
            "5/5 [==============================] - 0s 9ms/step - loss: 2.0354e-05 - accuracy: 1.0000 - val_loss: 0.0845 - val_accuracy: 0.9722\n",
            "Epoch 61/100\n",
            "5/5 [==============================] - 0s 9ms/step - loss: 1.9712e-05 - accuracy: 1.0000 - val_loss: 0.0851 - val_accuracy: 0.9722\n",
            "Epoch 62/100\n",
            "5/5 [==============================] - 0s 8ms/step - loss: 1.9052e-05 - accuracy: 1.0000 - val_loss: 0.0867 - val_accuracy: 0.9722\n",
            "Epoch 63/100\n",
            "5/5 [==============================] - 0s 9ms/step - loss: 1.8553e-05 - accuracy: 1.0000 - val_loss: 0.0894 - val_accuracy: 0.9722\n",
            "Epoch 64/100\n",
            "5/5 [==============================] - 0s 10ms/step - loss: 1.7954e-05 - accuracy: 1.0000 - val_loss: 0.0908 - val_accuracy: 0.9722\n",
            "Epoch 65/100\n",
            "5/5 [==============================] - 0s 9ms/step - loss: 1.7486e-05 - accuracy: 1.0000 - val_loss: 0.0914 - val_accuracy: 0.9722\n",
            "Epoch 66/100\n",
            "5/5 [==============================] - 0s 9ms/step - loss: 1.7206e-05 - accuracy: 1.0000 - val_loss: 0.0937 - val_accuracy: 0.9722\n",
            "Epoch 67/100\n",
            "5/5 [==============================] - 0s 9ms/step - loss: 1.6600e-05 - accuracy: 1.0000 - val_loss: 0.0938 - val_accuracy: 0.9722\n",
            "Epoch 68/100\n",
            "5/5 [==============================] - 0s 9ms/step - loss: 1.6204e-05 - accuracy: 1.0000 - val_loss: 0.0941 - val_accuracy: 0.9722\n",
            "Epoch 69/100\n",
            "5/5 [==============================] - 0s 9ms/step - loss: 1.5802e-05 - accuracy: 1.0000 - val_loss: 0.0950 - val_accuracy: 0.9722\n",
            "Epoch 70/100\n",
            "5/5 [==============================] - 0s 9ms/step - loss: 1.5426e-05 - accuracy: 1.0000 - val_loss: 0.0963 - val_accuracy: 0.9722\n",
            "Epoch 71/100\n",
            "5/5 [==============================] - 0s 9ms/step - loss: 1.5042e-05 - accuracy: 1.0000 - val_loss: 0.0972 - val_accuracy: 0.9722\n",
            "Epoch 72/100\n",
            "5/5 [==============================] - 0s 9ms/step - loss: 1.4691e-05 - accuracy: 1.0000 - val_loss: 0.0976 - val_accuracy: 0.9722\n",
            "Epoch 73/100\n",
            "5/5 [==============================] - 0s 9ms/step - loss: 1.4377e-05 - accuracy: 1.0000 - val_loss: 0.0979 - val_accuracy: 0.9722\n",
            "Epoch 74/100\n",
            "5/5 [==============================] - 0s 10ms/step - loss: 1.3993e-05 - accuracy: 1.0000 - val_loss: 0.0978 - val_accuracy: 0.9722\n",
            "Epoch 75/100\n",
            "5/5 [==============================] - 0s 10ms/step - loss: 1.3721e-05 - accuracy: 1.0000 - val_loss: 0.0980 - val_accuracy: 0.9722\n",
            "Epoch 76/100\n",
            "5/5 [==============================] - 0s 9ms/step - loss: 1.3401e-05 - accuracy: 1.0000 - val_loss: 0.0975 - val_accuracy: 0.9722\n",
            "Epoch 77/100\n",
            "5/5 [==============================] - 0s 9ms/step - loss: 1.3067e-05 - accuracy: 1.0000 - val_loss: 0.0969 - val_accuracy: 0.9722\n",
            "Epoch 78/100\n",
            "5/5 [==============================] - 0s 9ms/step - loss: 1.2783e-05 - accuracy: 1.0000 - val_loss: 0.0967 - val_accuracy: 0.9722\n",
            "Epoch 79/100\n",
            "5/5 [==============================] - 0s 8ms/step - loss: 1.2469e-05 - accuracy: 1.0000 - val_loss: 0.0968 - val_accuracy: 0.9722\n",
            "Epoch 80/100\n",
            "5/5 [==============================] - 0s 9ms/step - loss: 1.2253e-05 - accuracy: 1.0000 - val_loss: 0.0963 - val_accuracy: 0.9722\n",
            "Epoch 81/100\n",
            "5/5 [==============================] - 0s 9ms/step - loss: 1.1976e-05 - accuracy: 1.0000 - val_loss: 0.0957 - val_accuracy: 0.9722\n",
            "Epoch 82/100\n",
            "5/5 [==============================] - 0s 9ms/step - loss: 1.1643e-05 - accuracy: 1.0000 - val_loss: 0.0956 - val_accuracy: 0.9722\n",
            "Epoch 83/100\n",
            "5/5 [==============================] - 0s 10ms/step - loss: 1.1414e-05 - accuracy: 1.0000 - val_loss: 0.0952 - val_accuracy: 0.9722\n",
            "Epoch 84/100\n",
            "5/5 [==============================] - 0s 43ms/step - loss: 1.1234e-05 - accuracy: 1.0000 - val_loss: 0.0948 - val_accuracy: 0.9722\n",
            "Epoch 85/100\n",
            "5/5 [==============================] - 0s 9ms/step - loss: 1.0916e-05 - accuracy: 1.0000 - val_loss: 0.0946 - val_accuracy: 0.9722\n",
            "Epoch 86/100\n",
            "5/5 [==============================] - 0s 11ms/step - loss: 1.0733e-05 - accuracy: 1.0000 - val_loss: 0.0945 - val_accuracy: 0.9722\n",
            "Epoch 87/100\n",
            "5/5 [==============================] - 0s 9ms/step - loss: 1.0505e-05 - accuracy: 1.0000 - val_loss: 0.0942 - val_accuracy: 0.9722\n",
            "Epoch 88/100\n",
            "5/5 [==============================] - 0s 9ms/step - loss: 1.0256e-05 - accuracy: 1.0000 - val_loss: 0.0941 - val_accuracy: 0.9722\n",
            "Epoch 89/100\n",
            "5/5 [==============================] - 0s 9ms/step - loss: 1.0097e-05 - accuracy: 1.0000 - val_loss: 0.0934 - val_accuracy: 0.9722\n",
            "Epoch 90/100\n",
            "5/5 [==============================] - 0s 9ms/step - loss: 9.8667e-06 - accuracy: 1.0000 - val_loss: 0.0931 - val_accuracy: 0.9722\n",
            "Epoch 91/100\n",
            "5/5 [==============================] - 0s 10ms/step - loss: 9.6723e-06 - accuracy: 1.0000 - val_loss: 0.0933 - val_accuracy: 0.9722\n",
            "Epoch 92/100\n",
            "5/5 [==============================] - 0s 10ms/step - loss: 9.4956e-06 - accuracy: 1.0000 - val_loss: 0.0940 - val_accuracy: 0.9722\n",
            "Epoch 93/100\n",
            "5/5 [==============================] - 0s 10ms/step - loss: 9.2969e-06 - accuracy: 1.0000 - val_loss: 0.0943 - val_accuracy: 0.9722\n",
            "Epoch 94/100\n",
            "5/5 [==============================] - 0s 9ms/step - loss: 9.1524e-06 - accuracy: 1.0000 - val_loss: 0.0951 - val_accuracy: 0.9722\n",
            "Epoch 95/100\n",
            "5/5 [==============================] - 0s 9ms/step - loss: 8.9715e-06 - accuracy: 1.0000 - val_loss: 0.0953 - val_accuracy: 0.9722\n",
            "Epoch 96/100\n",
            "5/5 [==============================] - 0s 9ms/step - loss: 8.7813e-06 - accuracy: 1.0000 - val_loss: 0.0960 - val_accuracy: 0.9722\n",
            "Epoch 97/100\n",
            "5/5 [==============================] - 0s 9ms/step - loss: 8.6257e-06 - accuracy: 1.0000 - val_loss: 0.0966 - val_accuracy: 0.9722\n",
            "Epoch 98/100\n",
            "5/5 [==============================] - 0s 9ms/step - loss: 8.4507e-06 - accuracy: 1.0000 - val_loss: 0.0971 - val_accuracy: 0.9722\n",
            "Epoch 99/100\n",
            "5/5 [==============================] - 0s 9ms/step - loss: 8.2740e-06 - accuracy: 1.0000 - val_loss: 0.0969 - val_accuracy: 0.9722\n",
            "Epoch 100/100\n",
            "5/5 [==============================] - 0s 9ms/step - loss: 8.1236e-06 - accuracy: 1.0000 - val_loss: 0.0972 - val_accuracy: 0.9722\n"
          ],
          "name": "stdout"
        },
        {
          "output_type": "execute_result",
          "data": {
            "text/plain": [
              "<tensorflow.python.keras.callbacks.History at 0x7f639aa12eb8>"
            ]
          },
          "metadata": {
            "tags": []
          },
          "execution_count": 47
        }
      ]
    },
    {
      "cell_type": "code",
      "metadata": {
        "id": "LxagwlgJgsGm",
        "colab_type": "code",
        "colab": {
          "base_uri": "https://localhost:8080/",
          "height": 51
        },
        "outputId": "15523b9e-f1e2-48dd-8bcd-8b8bd85c7365"
      },
      "source": [
        "score = ann.evaluate(X_test, y_test)\n",
        "score[1]*100"
      ],
      "execution_count": null,
      "outputs": [
        {
          "output_type": "stream",
          "text": [
            "2/2 [==============================] - 0s 2ms/step - loss: 0.0972 - accuracy: 0.9722\n"
          ],
          "name": "stdout"
        },
        {
          "output_type": "execute_result",
          "data": {
            "text/plain": [
              "97.22222089767456"
            ]
          },
          "metadata": {
            "tags": []
          },
          "execution_count": 48
        }
      ]
    },
    {
      "cell_type": "code",
      "metadata": {
        "id": "rba7UzmF_XSZ",
        "colab_type": "code",
        "colab": {}
      },
      "source": [
        ""
      ],
      "execution_count": null,
      "outputs": []
    },
    {
      "cell_type": "code",
      "metadata": {
        "id": "BN-b_xpDuyye",
        "colab_type": "code",
        "colab": {}
      },
      "source": [
        ""
      ],
      "execution_count": null,
      "outputs": []
    },
    {
      "cell_type": "code",
      "metadata": {
        "id": "jMYq9NGJhx4l",
        "colab_type": "code",
        "colab": {
          "base_uri": "https://localhost:8080/",
          "height": 51
        },
        "outputId": "42a9107d-53cb-4f2b-e712-93b6516c7c5b"
      },
      "source": [
        "score = ann.evaluate(X_test, y_test)\n",
        "score[1]*100"
      ],
      "execution_count": null,
      "outputs": [
        {
          "output_type": "stream",
          "text": [
            "2/2 [==============================] - 0s 1ms/step - loss: 0.0972 - accuracy: 0.9722\n"
          ],
          "name": "stdout"
        },
        {
          "output_type": "execute_result",
          "data": {
            "text/plain": [
              "97.22222089767456"
            ]
          },
          "metadata": {
            "tags": []
          },
          "execution_count": 51
        }
      ]
    }
  ]
}